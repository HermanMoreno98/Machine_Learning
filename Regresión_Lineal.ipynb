{
  "nbformat": 4,
  "nbformat_minor": 0,
  "metadata": {
    "colab": {
      "provenance": [],
      "mount_file_id": "18RXB3ZQyx7jydGuJWwSrHP_2qKBw8XrQ",
      "authorship_tag": "ABX9TyMFlXK1Deym0ZHyzMk0Myqg",
      "include_colab_link": true
    },
    "kernelspec": {
      "name": "python3",
      "display_name": "Python 3"
    },
    "language_info": {
      "name": "python"
    }
  },
  "cells": [
    {
      "cell_type": "markdown",
      "metadata": {
        "id": "view-in-github",
        "colab_type": "text"
      },
      "source": [
        "<a href=\"https://colab.research.google.com/github/HermanMoreno98/Machine_Learning/blob/main/Regresi%C3%B3n_Lineal.ipynb\" target=\"_parent\"><img src=\"https://colab.research.google.com/assets/colab-badge.svg\" alt=\"Open In Colab\"/></a>"
      ]
    },
    {
      "cell_type": "markdown",
      "source": [
        "# Importando librerias"
      ],
      "metadata": {
        "id": "yfNMBXRtpLpc"
      }
    },
    {
      "cell_type": "code",
      "source": [
        "import pandas as pd\n",
        "import seaborn as sns\n",
        "import numpy as np\n",
        "import matplotlib.pyplot as plt\n",
        "import os\n",
        "# Delete files if exist data inside \n",
        "from shutil import rmtree\n",
        "import shutil"
      ],
      "metadata": {
        "id": "dH3C4ynFtvK5"
      },
      "execution_count": 1,
      "outputs": []
    },
    {
      "cell_type": "markdown",
      "source": [
        "# Manejo de carpetas en el directorio"
      ],
      "metadata": {
        "id": "1294LMlg_ipV"
      }
    },
    {
      "cell_type": "code",
      "source": [
        "#Directorio actual\n",
        "os.getcwd()"
      ],
      "metadata": {
        "colab": {
          "base_uri": "https://localhost:8080/",
          "height": 35
        },
        "id": "QI_Y_us2_K6C",
        "outputId": "7e8cf1ce-2405-4fbd-ce1a-9665255c2d45"
      },
      "execution_count": 2,
      "outputs": [
        {
          "output_type": "execute_result",
          "data": {
            "text/plain": [
              "'/content'"
            ],
            "application/vnd.google.colaboratory.intrinsic+json": {
              "type": "string"
            }
          },
          "metadata": {},
          "execution_count": 2
        }
      ]
    },
    {
      "cell_type": "code",
      "source": [
        "# Listar archivos dentro de un directorio\n",
        "os.listdir()"
      ],
      "metadata": {
        "colab": {
          "base_uri": "https://localhost:8080/"
        },
        "id": "T-JtQwYR_wX-",
        "outputId": "1db10f1d-d1c5-41e4-e9a6-e0b4b81bca28"
      },
      "execution_count": 3,
      "outputs": [
        {
          "output_type": "execute_result",
          "data": {
            "text/plain": [
              "['.config', 'drive', 'sample_data']"
            ]
          },
          "metadata": {},
          "execution_count": 3
        }
      ]
    },
    {
      "cell_type": "code",
      "source": [
        "# Crear carpeta\n",
        "os.mkdir(\"/content/drive/MyDrive/CURSOS/MACHINE LEARNING/Data/HousePrice\")"
      ],
      "metadata": {
        "id": "zw4ip8Ht__B6"
      },
      "execution_count": 4,
      "outputs": []
    },
    {
      "cell_type": "code",
      "source": [
        "#Cambiar de directorio\n",
        "os.chdir(\"/content/drive/MyDrive/CURSOS/MACHINE LEARNING/Data/HousePrice\")"
      ],
      "metadata": {
        "id": "P8KvsM41_0uY"
      },
      "execution_count": 5,
      "outputs": []
    },
    {
      "cell_type": "code",
      "source": [
        "from google.colab import files\n",
        "files.upload();"
      ],
      "metadata": {
        "colab": {
          "base_uri": "https://localhost:8080/",
          "height": 73
        },
        "id": "yyV4I6TV-o0j",
        "outputId": "6624b93b-c50f-426d-8efb-f40404c8b99c"
      },
      "execution_count": 6,
      "outputs": [
        {
          "output_type": "display_data",
          "data": {
            "text/plain": [
              "<IPython.core.display.HTML object>"
            ],
            "text/html": [
              "\n",
              "     <input type=\"file\" id=\"files-c09fddc1-a8a5-4811-955e-7f0603070acf\" name=\"files[]\" multiple disabled\n",
              "        style=\"border:none\" />\n",
              "     <output id=\"result-c09fddc1-a8a5-4811-955e-7f0603070acf\">\n",
              "      Upload widget is only available when the cell has been executed in the\n",
              "      current browser session. Please rerun this cell to enable.\n",
              "      </output>\n",
              "      <script>// Copyright 2017 Google LLC\n",
              "//\n",
              "// Licensed under the Apache License, Version 2.0 (the \"License\");\n",
              "// you may not use this file except in compliance with the License.\n",
              "// You may obtain a copy of the License at\n",
              "//\n",
              "//      http://www.apache.org/licenses/LICENSE-2.0\n",
              "//\n",
              "// Unless required by applicable law or agreed to in writing, software\n",
              "// distributed under the License is distributed on an \"AS IS\" BASIS,\n",
              "// WITHOUT WARRANTIES OR CONDITIONS OF ANY KIND, either express or implied.\n",
              "// See the License for the specific language governing permissions and\n",
              "// limitations under the License.\n",
              "\n",
              "/**\n",
              " * @fileoverview Helpers for google.colab Python module.\n",
              " */\n",
              "(function(scope) {\n",
              "function span(text, styleAttributes = {}) {\n",
              "  const element = document.createElement('span');\n",
              "  element.textContent = text;\n",
              "  for (const key of Object.keys(styleAttributes)) {\n",
              "    element.style[key] = styleAttributes[key];\n",
              "  }\n",
              "  return element;\n",
              "}\n",
              "\n",
              "// Max number of bytes which will be uploaded at a time.\n",
              "const MAX_PAYLOAD_SIZE = 100 * 1024;\n",
              "\n",
              "function _uploadFiles(inputId, outputId) {\n",
              "  const steps = uploadFilesStep(inputId, outputId);\n",
              "  const outputElement = document.getElementById(outputId);\n",
              "  // Cache steps on the outputElement to make it available for the next call\n",
              "  // to uploadFilesContinue from Python.\n",
              "  outputElement.steps = steps;\n",
              "\n",
              "  return _uploadFilesContinue(outputId);\n",
              "}\n",
              "\n",
              "// This is roughly an async generator (not supported in the browser yet),\n",
              "// where there are multiple asynchronous steps and the Python side is going\n",
              "// to poll for completion of each step.\n",
              "// This uses a Promise to block the python side on completion of each step,\n",
              "// then passes the result of the previous step as the input to the next step.\n",
              "function _uploadFilesContinue(outputId) {\n",
              "  const outputElement = document.getElementById(outputId);\n",
              "  const steps = outputElement.steps;\n",
              "\n",
              "  const next = steps.next(outputElement.lastPromiseValue);\n",
              "  return Promise.resolve(next.value.promise).then((value) => {\n",
              "    // Cache the last promise value to make it available to the next\n",
              "    // step of the generator.\n",
              "    outputElement.lastPromiseValue = value;\n",
              "    return next.value.response;\n",
              "  });\n",
              "}\n",
              "\n",
              "/**\n",
              " * Generator function which is called between each async step of the upload\n",
              " * process.\n",
              " * @param {string} inputId Element ID of the input file picker element.\n",
              " * @param {string} outputId Element ID of the output display.\n",
              " * @return {!Iterable<!Object>} Iterable of next steps.\n",
              " */\n",
              "function* uploadFilesStep(inputId, outputId) {\n",
              "  const inputElement = document.getElementById(inputId);\n",
              "  inputElement.disabled = false;\n",
              "\n",
              "  const outputElement = document.getElementById(outputId);\n",
              "  outputElement.innerHTML = '';\n",
              "\n",
              "  const pickedPromise = new Promise((resolve) => {\n",
              "    inputElement.addEventListener('change', (e) => {\n",
              "      resolve(e.target.files);\n",
              "    });\n",
              "  });\n",
              "\n",
              "  const cancel = document.createElement('button');\n",
              "  inputElement.parentElement.appendChild(cancel);\n",
              "  cancel.textContent = 'Cancel upload';\n",
              "  const cancelPromise = new Promise((resolve) => {\n",
              "    cancel.onclick = () => {\n",
              "      resolve(null);\n",
              "    };\n",
              "  });\n",
              "\n",
              "  // Wait for the user to pick the files.\n",
              "  const files = yield {\n",
              "    promise: Promise.race([pickedPromise, cancelPromise]),\n",
              "    response: {\n",
              "      action: 'starting',\n",
              "    }\n",
              "  };\n",
              "\n",
              "  cancel.remove();\n",
              "\n",
              "  // Disable the input element since further picks are not allowed.\n",
              "  inputElement.disabled = true;\n",
              "\n",
              "  if (!files) {\n",
              "    return {\n",
              "      response: {\n",
              "        action: 'complete',\n",
              "      }\n",
              "    };\n",
              "  }\n",
              "\n",
              "  for (const file of files) {\n",
              "    const li = document.createElement('li');\n",
              "    li.append(span(file.name, {fontWeight: 'bold'}));\n",
              "    li.append(span(\n",
              "        `(${file.type || 'n/a'}) - ${file.size} bytes, ` +\n",
              "        `last modified: ${\n",
              "            file.lastModifiedDate ? file.lastModifiedDate.toLocaleDateString() :\n",
              "                                    'n/a'} - `));\n",
              "    const percent = span('0% done');\n",
              "    li.appendChild(percent);\n",
              "\n",
              "    outputElement.appendChild(li);\n",
              "\n",
              "    const fileDataPromise = new Promise((resolve) => {\n",
              "      const reader = new FileReader();\n",
              "      reader.onload = (e) => {\n",
              "        resolve(e.target.result);\n",
              "      };\n",
              "      reader.readAsArrayBuffer(file);\n",
              "    });\n",
              "    // Wait for the data to be ready.\n",
              "    let fileData = yield {\n",
              "      promise: fileDataPromise,\n",
              "      response: {\n",
              "        action: 'continue',\n",
              "      }\n",
              "    };\n",
              "\n",
              "    // Use a chunked sending to avoid message size limits. See b/62115660.\n",
              "    let position = 0;\n",
              "    do {\n",
              "      const length = Math.min(fileData.byteLength - position, MAX_PAYLOAD_SIZE);\n",
              "      const chunk = new Uint8Array(fileData, position, length);\n",
              "      position += length;\n",
              "\n",
              "      const base64 = btoa(String.fromCharCode.apply(null, chunk));\n",
              "      yield {\n",
              "        response: {\n",
              "          action: 'append',\n",
              "          file: file.name,\n",
              "          data: base64,\n",
              "        },\n",
              "      };\n",
              "\n",
              "      let percentDone = fileData.byteLength === 0 ?\n",
              "          100 :\n",
              "          Math.round((position / fileData.byteLength) * 100);\n",
              "      percent.textContent = `${percentDone}% done`;\n",
              "\n",
              "    } while (position < fileData.byteLength);\n",
              "  }\n",
              "\n",
              "  // All done.\n",
              "  yield {\n",
              "    response: {\n",
              "      action: 'complete',\n",
              "    }\n",
              "  };\n",
              "}\n",
              "\n",
              "scope.google = scope.google || {};\n",
              "scope.google.colab = scope.google.colab || {};\n",
              "scope.google.colab._files = {\n",
              "  _uploadFiles,\n",
              "  _uploadFilesContinue,\n",
              "};\n",
              "})(self);\n",
              "</script> "
            ]
          },
          "metadata": {}
        },
        {
          "output_type": "stream",
          "name": "stdout",
          "text": [
            "Saving kaggle.json to kaggle.json\n"
          ]
        }
      ]
    },
    {
      "cell_type": "code",
      "source": [
        "!pip install -q kaggle\n",
        "!mkdir -p ~/.kaggle\n",
        "!cp kaggle.json ~/.kaggle/"
      ],
      "metadata": {
        "id": "Ou7ST-L6-qNG"
      },
      "execution_count": 7,
      "outputs": []
    },
    {
      "cell_type": "code",
      "source": [
        "!kaggle datasets download -d shree1992/housedata"
      ],
      "metadata": {
        "colab": {
          "base_uri": "https://localhost:8080/"
        },
        "id": "fTaQRlxE-rhE",
        "outputId": "d56a21f0-ab61-4e1e-ffcf-52a9fe894ef4"
      },
      "execution_count": 8,
      "outputs": [
        {
          "output_type": "stream",
          "name": "stdout",
          "text": [
            "Downloading housedata.zip to /content/drive/MyDrive/CURSOS/MACHINE LEARNING/Data/HousePrice\n",
            "\r  0% 0.00/432k [00:00<?, ?B/s]\n",
            "\r100% 432k/432k [00:00<00:00, 7.85MB/s]\n"
          ]
        }
      ]
    },
    {
      "cell_type": "code",
      "source": [
        "! unzip housedata.zip"
      ],
      "metadata": {
        "colab": {
          "base_uri": "https://localhost:8080/"
        },
        "id": "Np40yTz3-tmf",
        "outputId": "fb7d874f-bacd-4b9e-dbfb-137cc5877222"
      },
      "execution_count": 9,
      "outputs": [
        {
          "output_type": "stream",
          "name": "stdout",
          "text": [
            "Archive:  housedata.zip\n",
            "  inflating: data.csv                \n",
            "  inflating: data.dat                \n",
            "  inflating: output.csv              \n"
          ]
        }
      ]
    },
    {
      "cell_type": "code",
      "source": [
        "final_route = \"/content/drive/MyDrive/CURSOS/MACHINE LEARNING/Data/\"\n",
        "shutil.move(\"data.csv\", final_route)"
      ],
      "metadata": {
        "colab": {
          "base_uri": "https://localhost:8080/",
          "height": 35
        },
        "id": "eo8oTGXFBfQ3",
        "outputId": "10538236-a773-453d-a918-570b65046499"
      },
      "execution_count": 10,
      "outputs": [
        {
          "output_type": "execute_result",
          "data": {
            "text/plain": [
              "'/content/drive/MyDrive/CURSOS/MACHINE LEARNING/Data/data.csv'"
            ],
            "application/vnd.google.colaboratory.intrinsic+json": {
              "type": "string"
            }
          },
          "metadata": {},
          "execution_count": 10
        }
      ]
    },
    {
      "cell_type": "code",
      "source": [
        "#Cambiar de directorio\n",
        "os.chdir(\"/content/drive/MyDrive/CURSOS/MACHINE LEARNING/Data/\")"
      ],
      "metadata": {
        "id": "J23WFnASC5ld"
      },
      "execution_count": 11,
      "outputs": []
    },
    {
      "cell_type": "code",
      "source": [
        "#Cambiar nombre de archivo\n",
        "old_file = \"data.csv\"\n",
        "new_file = \"house_price_data.csv\"\n",
        "os.rename(old_file, new_file)"
      ],
      "metadata": {
        "id": "Z82eVkECCRqz"
      },
      "execution_count": 12,
      "outputs": []
    },
    {
      "cell_type": "code",
      "source": [
        "#Eliminar directorio\n",
        "rmtree(\"HousePrice\")"
      ],
      "metadata": {
        "id": "rMl73ne9C82p"
      },
      "execution_count": 13,
      "outputs": []
    },
    {
      "cell_type": "markdown",
      "source": [
        "# Cargando dataset"
      ],
      "metadata": {
        "id": "QL3ZwZ52t1Vi"
      }
    },
    {
      "cell_type": "code",
      "source": [
        "pddf = pd.read_csv('/content/drive/MyDrive/CURSOS/MACHINE LEARNING/Data/house_price_data.csv')\n",
        "target = 'price'\n",
        "pddf.head()"
      ],
      "metadata": {
        "colab": {
          "base_uri": "https://localhost:8080/",
          "height": 206
        },
        "id": "6KiAQ-MItvIX",
        "outputId": "be7e2ce7-bc33-4fe7-d34c-aca4b936d5a3"
      },
      "execution_count": 84,
      "outputs": [
        {
          "output_type": "execute_result",
          "data": {
            "text/plain": [
              "                  date      price  bedrooms  bathrooms  sqft_living  sqft_lot  \\\n",
              "0  2014-05-02 00:00:00   313000.0       3.0       1.50         1340      7912   \n",
              "1  2014-05-02 00:00:00  2384000.0       5.0       2.50         3650      9050   \n",
              "2  2014-05-02 00:00:00   342000.0       3.0       2.00         1930     11947   \n",
              "3  2014-05-02 00:00:00   420000.0       3.0       2.25         2000      8030   \n",
              "4  2014-05-02 00:00:00   550000.0       4.0       2.50         1940     10500   \n",
              "\n",
              "   floors  waterfront  view  condition  sqft_above  sqft_basement  yr_built  \\\n",
              "0     1.5           0     0          3        1340              0      1955   \n",
              "1     2.0           0     4          5        3370            280      1921   \n",
              "2     1.0           0     0          4        1930              0      1966   \n",
              "3     1.0           0     0          4        1000           1000      1963   \n",
              "4     1.0           0     0          4        1140            800      1976   \n",
              "\n",
              "   yr_renovated                    street       city  statezip country  \n",
              "0          2005      18810 Densmore Ave N  Shoreline  WA 98133     USA  \n",
              "1             0           709 W Blaine St    Seattle  WA 98119     USA  \n",
              "2             0  26206-26214 143rd Ave SE       Kent  WA 98042     USA  \n",
              "3             0           857 170th Pl NE   Bellevue  WA 98008     USA  \n",
              "4          1992         9105 170th Ave NE    Redmond  WA 98052     USA  "
            ],
            "text/html": [
              "\n",
              "  <div id=\"df-53479546-880a-47fd-bae4-c04c29e2f4b7\">\n",
              "    <div class=\"colab-df-container\">\n",
              "      <div>\n",
              "<style scoped>\n",
              "    .dataframe tbody tr th:only-of-type {\n",
              "        vertical-align: middle;\n",
              "    }\n",
              "\n",
              "    .dataframe tbody tr th {\n",
              "        vertical-align: top;\n",
              "    }\n",
              "\n",
              "    .dataframe thead th {\n",
              "        text-align: right;\n",
              "    }\n",
              "</style>\n",
              "<table border=\"1\" class=\"dataframe\">\n",
              "  <thead>\n",
              "    <tr style=\"text-align: right;\">\n",
              "      <th></th>\n",
              "      <th>date</th>\n",
              "      <th>price</th>\n",
              "      <th>bedrooms</th>\n",
              "      <th>bathrooms</th>\n",
              "      <th>sqft_living</th>\n",
              "      <th>sqft_lot</th>\n",
              "      <th>floors</th>\n",
              "      <th>waterfront</th>\n",
              "      <th>view</th>\n",
              "      <th>condition</th>\n",
              "      <th>sqft_above</th>\n",
              "      <th>sqft_basement</th>\n",
              "      <th>yr_built</th>\n",
              "      <th>yr_renovated</th>\n",
              "      <th>street</th>\n",
              "      <th>city</th>\n",
              "      <th>statezip</th>\n",
              "      <th>country</th>\n",
              "    </tr>\n",
              "  </thead>\n",
              "  <tbody>\n",
              "    <tr>\n",
              "      <th>0</th>\n",
              "      <td>2014-05-02 00:00:00</td>\n",
              "      <td>313000.0</td>\n",
              "      <td>3.0</td>\n",
              "      <td>1.50</td>\n",
              "      <td>1340</td>\n",
              "      <td>7912</td>\n",
              "      <td>1.5</td>\n",
              "      <td>0</td>\n",
              "      <td>0</td>\n",
              "      <td>3</td>\n",
              "      <td>1340</td>\n",
              "      <td>0</td>\n",
              "      <td>1955</td>\n",
              "      <td>2005</td>\n",
              "      <td>18810 Densmore Ave N</td>\n",
              "      <td>Shoreline</td>\n",
              "      <td>WA 98133</td>\n",
              "      <td>USA</td>\n",
              "    </tr>\n",
              "    <tr>\n",
              "      <th>1</th>\n",
              "      <td>2014-05-02 00:00:00</td>\n",
              "      <td>2384000.0</td>\n",
              "      <td>5.0</td>\n",
              "      <td>2.50</td>\n",
              "      <td>3650</td>\n",
              "      <td>9050</td>\n",
              "      <td>2.0</td>\n",
              "      <td>0</td>\n",
              "      <td>4</td>\n",
              "      <td>5</td>\n",
              "      <td>3370</td>\n",
              "      <td>280</td>\n",
              "      <td>1921</td>\n",
              "      <td>0</td>\n",
              "      <td>709 W Blaine St</td>\n",
              "      <td>Seattle</td>\n",
              "      <td>WA 98119</td>\n",
              "      <td>USA</td>\n",
              "    </tr>\n",
              "    <tr>\n",
              "      <th>2</th>\n",
              "      <td>2014-05-02 00:00:00</td>\n",
              "      <td>342000.0</td>\n",
              "      <td>3.0</td>\n",
              "      <td>2.00</td>\n",
              "      <td>1930</td>\n",
              "      <td>11947</td>\n",
              "      <td>1.0</td>\n",
              "      <td>0</td>\n",
              "      <td>0</td>\n",
              "      <td>4</td>\n",
              "      <td>1930</td>\n",
              "      <td>0</td>\n",
              "      <td>1966</td>\n",
              "      <td>0</td>\n",
              "      <td>26206-26214 143rd Ave SE</td>\n",
              "      <td>Kent</td>\n",
              "      <td>WA 98042</td>\n",
              "      <td>USA</td>\n",
              "    </tr>\n",
              "    <tr>\n",
              "      <th>3</th>\n",
              "      <td>2014-05-02 00:00:00</td>\n",
              "      <td>420000.0</td>\n",
              "      <td>3.0</td>\n",
              "      <td>2.25</td>\n",
              "      <td>2000</td>\n",
              "      <td>8030</td>\n",
              "      <td>1.0</td>\n",
              "      <td>0</td>\n",
              "      <td>0</td>\n",
              "      <td>4</td>\n",
              "      <td>1000</td>\n",
              "      <td>1000</td>\n",
              "      <td>1963</td>\n",
              "      <td>0</td>\n",
              "      <td>857 170th Pl NE</td>\n",
              "      <td>Bellevue</td>\n",
              "      <td>WA 98008</td>\n",
              "      <td>USA</td>\n",
              "    </tr>\n",
              "    <tr>\n",
              "      <th>4</th>\n",
              "      <td>2014-05-02 00:00:00</td>\n",
              "      <td>550000.0</td>\n",
              "      <td>4.0</td>\n",
              "      <td>2.50</td>\n",
              "      <td>1940</td>\n",
              "      <td>10500</td>\n",
              "      <td>1.0</td>\n",
              "      <td>0</td>\n",
              "      <td>0</td>\n",
              "      <td>4</td>\n",
              "      <td>1140</td>\n",
              "      <td>800</td>\n",
              "      <td>1976</td>\n",
              "      <td>1992</td>\n",
              "      <td>9105 170th Ave NE</td>\n",
              "      <td>Redmond</td>\n",
              "      <td>WA 98052</td>\n",
              "      <td>USA</td>\n",
              "    </tr>\n",
              "  </tbody>\n",
              "</table>\n",
              "</div>\n",
              "      <button class=\"colab-df-convert\" onclick=\"convertToInteractive('df-53479546-880a-47fd-bae4-c04c29e2f4b7')\"\n",
              "              title=\"Convert this dataframe to an interactive table.\"\n",
              "              style=\"display:none;\">\n",
              "        \n",
              "  <svg xmlns=\"http://www.w3.org/2000/svg\" height=\"24px\"viewBox=\"0 0 24 24\"\n",
              "       width=\"24px\">\n",
              "    <path d=\"M0 0h24v24H0V0z\" fill=\"none\"/>\n",
              "    <path d=\"M18.56 5.44l.94 2.06.94-2.06 2.06-.94-2.06-.94-.94-2.06-.94 2.06-2.06.94zm-11 1L8.5 8.5l.94-2.06 2.06-.94-2.06-.94L8.5 2.5l-.94 2.06-2.06.94zm10 10l.94 2.06.94-2.06 2.06-.94-2.06-.94-.94-2.06-.94 2.06-2.06.94z\"/><path d=\"M17.41 7.96l-1.37-1.37c-.4-.4-.92-.59-1.43-.59-.52 0-1.04.2-1.43.59L10.3 9.45l-7.72 7.72c-.78.78-.78 2.05 0 2.83L4 21.41c.39.39.9.59 1.41.59.51 0 1.02-.2 1.41-.59l7.78-7.78 2.81-2.81c.8-.78.8-2.07 0-2.86zM5.41 20L4 18.59l7.72-7.72 1.47 1.35L5.41 20z\"/>\n",
              "  </svg>\n",
              "      </button>\n",
              "      \n",
              "  <style>\n",
              "    .colab-df-container {\n",
              "      display:flex;\n",
              "      flex-wrap:wrap;\n",
              "      gap: 12px;\n",
              "    }\n",
              "\n",
              "    .colab-df-convert {\n",
              "      background-color: #E8F0FE;\n",
              "      border: none;\n",
              "      border-radius: 50%;\n",
              "      cursor: pointer;\n",
              "      display: none;\n",
              "      fill: #1967D2;\n",
              "      height: 32px;\n",
              "      padding: 0 0 0 0;\n",
              "      width: 32px;\n",
              "    }\n",
              "\n",
              "    .colab-df-convert:hover {\n",
              "      background-color: #E2EBFA;\n",
              "      box-shadow: 0px 1px 2px rgba(60, 64, 67, 0.3), 0px 1px 3px 1px rgba(60, 64, 67, 0.15);\n",
              "      fill: #174EA6;\n",
              "    }\n",
              "\n",
              "    [theme=dark] .colab-df-convert {\n",
              "      background-color: #3B4455;\n",
              "      fill: #D2E3FC;\n",
              "    }\n",
              "\n",
              "    [theme=dark] .colab-df-convert:hover {\n",
              "      background-color: #434B5C;\n",
              "      box-shadow: 0px 1px 3px 1px rgba(0, 0, 0, 0.15);\n",
              "      filter: drop-shadow(0px 1px 2px rgba(0, 0, 0, 0.3));\n",
              "      fill: #FFFFFF;\n",
              "    }\n",
              "  </style>\n",
              "\n",
              "      <script>\n",
              "        const buttonEl =\n",
              "          document.querySelector('#df-53479546-880a-47fd-bae4-c04c29e2f4b7 button.colab-df-convert');\n",
              "        buttonEl.style.display =\n",
              "          google.colab.kernel.accessAllowed ? 'block' : 'none';\n",
              "\n",
              "        async function convertToInteractive(key) {\n",
              "          const element = document.querySelector('#df-53479546-880a-47fd-bae4-c04c29e2f4b7');\n",
              "          const dataTable =\n",
              "            await google.colab.kernel.invokeFunction('convertToInteractive',\n",
              "                                                     [key], {});\n",
              "          if (!dataTable) return;\n",
              "\n",
              "          const docLinkHtml = 'Like what you see? Visit the ' +\n",
              "            '<a target=\"_blank\" href=https://colab.research.google.com/notebooks/data_table.ipynb>data table notebook</a>'\n",
              "            + ' to learn more about interactive tables.';\n",
              "          element.innerHTML = '';\n",
              "          dataTable['output_type'] = 'display_data';\n",
              "          await google.colab.output.renderOutput(dataTable, element);\n",
              "          const docLink = document.createElement('div');\n",
              "          docLink.innerHTML = docLinkHtml;\n",
              "          element.appendChild(docLink);\n",
              "        }\n",
              "      </script>\n",
              "    </div>\n",
              "  </div>\n",
              "  "
            ]
          },
          "metadata": {},
          "execution_count": 84
        }
      ]
    },
    {
      "cell_type": "code",
      "source": [
        "pddf.describe()"
      ],
      "metadata": {
        "colab": {
          "base_uri": "https://localhost:8080/",
          "height": 344
        },
        "id": "30YL3nl-4q0d",
        "outputId": "846500a6-a78a-4f79-c817-b2bdf73970f3"
      },
      "execution_count": 80,
      "outputs": [
        {
          "output_type": "execute_result",
          "data": {
            "text/plain": [
              "              price     bedrooms    bathrooms   sqft_living      sqft_lot  \\\n",
              "count  4.600000e+03  4600.000000  4600.000000   4600.000000  4.600000e+03   \n",
              "mean   5.519630e+05     3.400870     2.160815   2139.346957  1.485252e+04   \n",
              "std    5.638347e+05     0.908848     0.783781    963.206916  3.588444e+04   \n",
              "min    0.000000e+00     0.000000     0.000000    370.000000  6.380000e+02   \n",
              "25%    3.228750e+05     3.000000     1.750000   1460.000000  5.000750e+03   \n",
              "50%    4.609435e+05     3.000000     2.250000   1980.000000  7.683000e+03   \n",
              "75%    6.549625e+05     4.000000     2.500000   2620.000000  1.100125e+04   \n",
              "max    2.659000e+07     9.000000     8.000000  13540.000000  1.074218e+06   \n",
              "\n",
              "            floors   waterfront         view    condition   sqft_above  \\\n",
              "count  4600.000000  4600.000000  4600.000000  4600.000000  4600.000000   \n",
              "mean      1.512065     0.007174     0.240652     3.451739  1827.265435   \n",
              "std       0.538288     0.084404     0.778405     0.677230   862.168977   \n",
              "min       1.000000     0.000000     0.000000     1.000000   370.000000   \n",
              "25%       1.000000     0.000000     0.000000     3.000000  1190.000000   \n",
              "50%       1.500000     0.000000     0.000000     3.000000  1590.000000   \n",
              "75%       2.000000     0.000000     0.000000     4.000000  2300.000000   \n",
              "max       3.500000     1.000000     4.000000     5.000000  9410.000000   \n",
              "\n",
              "       sqft_basement     yr_built  yr_renovated    year    ant_built  \\\n",
              "count    4600.000000  4600.000000   4600.000000  4600.0  4600.000000   \n",
              "mean      312.081522  1970.786304    808.608261  2014.0    43.213696   \n",
              "std       464.137228    29.731848    979.414536     0.0    29.731848   \n",
              "min         0.000000  1900.000000      0.000000  2014.0     0.000000   \n",
              "25%         0.000000  1951.000000      0.000000  2014.0    17.000000   \n",
              "50%         0.000000  1976.000000      0.000000  2014.0    38.000000   \n",
              "75%       610.000000  1997.000000   1999.000000  2014.0    63.000000   \n",
              "max      4820.000000  2014.000000   2014.000000  2014.0   114.000000   \n",
              "\n",
              "       ant_renovated       price_t  \n",
              "count    1865.000000  4.600000e+03  \n",
              "mean       19.577480  5.378241e+05  \n",
              "std        21.372401  3.279080e+05  \n",
              "min         0.000000  0.000000e+00  \n",
              "25%         8.000000  3.228750e+05  \n",
              "50%        13.000000  4.609435e+05  \n",
              "75%        24.000000  6.549625e+05  \n",
              "max       102.000000  2.004243e+06  "
            ],
            "text/html": [
              "\n",
              "  <div id=\"df-457df5c8-227b-4c43-bd32-23b2d1170a71\">\n",
              "    <div class=\"colab-df-container\">\n",
              "      <div>\n",
              "<style scoped>\n",
              "    .dataframe tbody tr th:only-of-type {\n",
              "        vertical-align: middle;\n",
              "    }\n",
              "\n",
              "    .dataframe tbody tr th {\n",
              "        vertical-align: top;\n",
              "    }\n",
              "\n",
              "    .dataframe thead th {\n",
              "        text-align: right;\n",
              "    }\n",
              "</style>\n",
              "<table border=\"1\" class=\"dataframe\">\n",
              "  <thead>\n",
              "    <tr style=\"text-align: right;\">\n",
              "      <th></th>\n",
              "      <th>price</th>\n",
              "      <th>bedrooms</th>\n",
              "      <th>bathrooms</th>\n",
              "      <th>sqft_living</th>\n",
              "      <th>sqft_lot</th>\n",
              "      <th>floors</th>\n",
              "      <th>waterfront</th>\n",
              "      <th>view</th>\n",
              "      <th>condition</th>\n",
              "      <th>sqft_above</th>\n",
              "      <th>sqft_basement</th>\n",
              "      <th>yr_built</th>\n",
              "      <th>yr_renovated</th>\n",
              "      <th>year</th>\n",
              "      <th>ant_built</th>\n",
              "      <th>ant_renovated</th>\n",
              "      <th>price_t</th>\n",
              "    </tr>\n",
              "  </thead>\n",
              "  <tbody>\n",
              "    <tr>\n",
              "      <th>count</th>\n",
              "      <td>4.600000e+03</td>\n",
              "      <td>4600.000000</td>\n",
              "      <td>4600.000000</td>\n",
              "      <td>4600.000000</td>\n",
              "      <td>4.600000e+03</td>\n",
              "      <td>4600.000000</td>\n",
              "      <td>4600.000000</td>\n",
              "      <td>4600.000000</td>\n",
              "      <td>4600.000000</td>\n",
              "      <td>4600.000000</td>\n",
              "      <td>4600.000000</td>\n",
              "      <td>4600.000000</td>\n",
              "      <td>4600.000000</td>\n",
              "      <td>4600.0</td>\n",
              "      <td>4600.000000</td>\n",
              "      <td>1865.000000</td>\n",
              "      <td>4.600000e+03</td>\n",
              "    </tr>\n",
              "    <tr>\n",
              "      <th>mean</th>\n",
              "      <td>5.519630e+05</td>\n",
              "      <td>3.400870</td>\n",
              "      <td>2.160815</td>\n",
              "      <td>2139.346957</td>\n",
              "      <td>1.485252e+04</td>\n",
              "      <td>1.512065</td>\n",
              "      <td>0.007174</td>\n",
              "      <td>0.240652</td>\n",
              "      <td>3.451739</td>\n",
              "      <td>1827.265435</td>\n",
              "      <td>312.081522</td>\n",
              "      <td>1970.786304</td>\n",
              "      <td>808.608261</td>\n",
              "      <td>2014.0</td>\n",
              "      <td>43.213696</td>\n",
              "      <td>19.577480</td>\n",
              "      <td>5.378241e+05</td>\n",
              "    </tr>\n",
              "    <tr>\n",
              "      <th>std</th>\n",
              "      <td>5.638347e+05</td>\n",
              "      <td>0.908848</td>\n",
              "      <td>0.783781</td>\n",
              "      <td>963.206916</td>\n",
              "      <td>3.588444e+04</td>\n",
              "      <td>0.538288</td>\n",
              "      <td>0.084404</td>\n",
              "      <td>0.778405</td>\n",
              "      <td>0.677230</td>\n",
              "      <td>862.168977</td>\n",
              "      <td>464.137228</td>\n",
              "      <td>29.731848</td>\n",
              "      <td>979.414536</td>\n",
              "      <td>0.0</td>\n",
              "      <td>29.731848</td>\n",
              "      <td>21.372401</td>\n",
              "      <td>3.279080e+05</td>\n",
              "    </tr>\n",
              "    <tr>\n",
              "      <th>min</th>\n",
              "      <td>0.000000e+00</td>\n",
              "      <td>0.000000</td>\n",
              "      <td>0.000000</td>\n",
              "      <td>370.000000</td>\n",
              "      <td>6.380000e+02</td>\n",
              "      <td>1.000000</td>\n",
              "      <td>0.000000</td>\n",
              "      <td>0.000000</td>\n",
              "      <td>1.000000</td>\n",
              "      <td>370.000000</td>\n",
              "      <td>0.000000</td>\n",
              "      <td>1900.000000</td>\n",
              "      <td>0.000000</td>\n",
              "      <td>2014.0</td>\n",
              "      <td>0.000000</td>\n",
              "      <td>0.000000</td>\n",
              "      <td>0.000000e+00</td>\n",
              "    </tr>\n",
              "    <tr>\n",
              "      <th>25%</th>\n",
              "      <td>3.228750e+05</td>\n",
              "      <td>3.000000</td>\n",
              "      <td>1.750000</td>\n",
              "      <td>1460.000000</td>\n",
              "      <td>5.000750e+03</td>\n",
              "      <td>1.000000</td>\n",
              "      <td>0.000000</td>\n",
              "      <td>0.000000</td>\n",
              "      <td>3.000000</td>\n",
              "      <td>1190.000000</td>\n",
              "      <td>0.000000</td>\n",
              "      <td>1951.000000</td>\n",
              "      <td>0.000000</td>\n",
              "      <td>2014.0</td>\n",
              "      <td>17.000000</td>\n",
              "      <td>8.000000</td>\n",
              "      <td>3.228750e+05</td>\n",
              "    </tr>\n",
              "    <tr>\n",
              "      <th>50%</th>\n",
              "      <td>4.609435e+05</td>\n",
              "      <td>3.000000</td>\n",
              "      <td>2.250000</td>\n",
              "      <td>1980.000000</td>\n",
              "      <td>7.683000e+03</td>\n",
              "      <td>1.500000</td>\n",
              "      <td>0.000000</td>\n",
              "      <td>0.000000</td>\n",
              "      <td>3.000000</td>\n",
              "      <td>1590.000000</td>\n",
              "      <td>0.000000</td>\n",
              "      <td>1976.000000</td>\n",
              "      <td>0.000000</td>\n",
              "      <td>2014.0</td>\n",
              "      <td>38.000000</td>\n",
              "      <td>13.000000</td>\n",
              "      <td>4.609435e+05</td>\n",
              "    </tr>\n",
              "    <tr>\n",
              "      <th>75%</th>\n",
              "      <td>6.549625e+05</td>\n",
              "      <td>4.000000</td>\n",
              "      <td>2.500000</td>\n",
              "      <td>2620.000000</td>\n",
              "      <td>1.100125e+04</td>\n",
              "      <td>2.000000</td>\n",
              "      <td>0.000000</td>\n",
              "      <td>0.000000</td>\n",
              "      <td>4.000000</td>\n",
              "      <td>2300.000000</td>\n",
              "      <td>610.000000</td>\n",
              "      <td>1997.000000</td>\n",
              "      <td>1999.000000</td>\n",
              "      <td>2014.0</td>\n",
              "      <td>63.000000</td>\n",
              "      <td>24.000000</td>\n",
              "      <td>6.549625e+05</td>\n",
              "    </tr>\n",
              "    <tr>\n",
              "      <th>max</th>\n",
              "      <td>2.659000e+07</td>\n",
              "      <td>9.000000</td>\n",
              "      <td>8.000000</td>\n",
              "      <td>13540.000000</td>\n",
              "      <td>1.074218e+06</td>\n",
              "      <td>3.500000</td>\n",
              "      <td>1.000000</td>\n",
              "      <td>4.000000</td>\n",
              "      <td>5.000000</td>\n",
              "      <td>9410.000000</td>\n",
              "      <td>4820.000000</td>\n",
              "      <td>2014.000000</td>\n",
              "      <td>2014.000000</td>\n",
              "      <td>2014.0</td>\n",
              "      <td>114.000000</td>\n",
              "      <td>102.000000</td>\n",
              "      <td>2.004243e+06</td>\n",
              "    </tr>\n",
              "  </tbody>\n",
              "</table>\n",
              "</div>\n",
              "      <button class=\"colab-df-convert\" onclick=\"convertToInteractive('df-457df5c8-227b-4c43-bd32-23b2d1170a71')\"\n",
              "              title=\"Convert this dataframe to an interactive table.\"\n",
              "              style=\"display:none;\">\n",
              "        \n",
              "  <svg xmlns=\"http://www.w3.org/2000/svg\" height=\"24px\"viewBox=\"0 0 24 24\"\n",
              "       width=\"24px\">\n",
              "    <path d=\"M0 0h24v24H0V0z\" fill=\"none\"/>\n",
              "    <path d=\"M18.56 5.44l.94 2.06.94-2.06 2.06-.94-2.06-.94-.94-2.06-.94 2.06-2.06.94zm-11 1L8.5 8.5l.94-2.06 2.06-.94-2.06-.94L8.5 2.5l-.94 2.06-2.06.94zm10 10l.94 2.06.94-2.06 2.06-.94-2.06-.94-.94-2.06-.94 2.06-2.06.94z\"/><path d=\"M17.41 7.96l-1.37-1.37c-.4-.4-.92-.59-1.43-.59-.52 0-1.04.2-1.43.59L10.3 9.45l-7.72 7.72c-.78.78-.78 2.05 0 2.83L4 21.41c.39.39.9.59 1.41.59.51 0 1.02-.2 1.41-.59l7.78-7.78 2.81-2.81c.8-.78.8-2.07 0-2.86zM5.41 20L4 18.59l7.72-7.72 1.47 1.35L5.41 20z\"/>\n",
              "  </svg>\n",
              "      </button>\n",
              "      \n",
              "  <style>\n",
              "    .colab-df-container {\n",
              "      display:flex;\n",
              "      flex-wrap:wrap;\n",
              "      gap: 12px;\n",
              "    }\n",
              "\n",
              "    .colab-df-convert {\n",
              "      background-color: #E8F0FE;\n",
              "      border: none;\n",
              "      border-radius: 50%;\n",
              "      cursor: pointer;\n",
              "      display: none;\n",
              "      fill: #1967D2;\n",
              "      height: 32px;\n",
              "      padding: 0 0 0 0;\n",
              "      width: 32px;\n",
              "    }\n",
              "\n",
              "    .colab-df-convert:hover {\n",
              "      background-color: #E2EBFA;\n",
              "      box-shadow: 0px 1px 2px rgba(60, 64, 67, 0.3), 0px 1px 3px 1px rgba(60, 64, 67, 0.15);\n",
              "      fill: #174EA6;\n",
              "    }\n",
              "\n",
              "    [theme=dark] .colab-df-convert {\n",
              "      background-color: #3B4455;\n",
              "      fill: #D2E3FC;\n",
              "    }\n",
              "\n",
              "    [theme=dark] .colab-df-convert:hover {\n",
              "      background-color: #434B5C;\n",
              "      box-shadow: 0px 1px 3px 1px rgba(0, 0, 0, 0.15);\n",
              "      filter: drop-shadow(0px 1px 2px rgba(0, 0, 0, 0.3));\n",
              "      fill: #FFFFFF;\n",
              "    }\n",
              "  </style>\n",
              "\n",
              "      <script>\n",
              "        const buttonEl =\n",
              "          document.querySelector('#df-457df5c8-227b-4c43-bd32-23b2d1170a71 button.colab-df-convert');\n",
              "        buttonEl.style.display =\n",
              "          google.colab.kernel.accessAllowed ? 'block' : 'none';\n",
              "\n",
              "        async function convertToInteractive(key) {\n",
              "          const element = document.querySelector('#df-457df5c8-227b-4c43-bd32-23b2d1170a71');\n",
              "          const dataTable =\n",
              "            await google.colab.kernel.invokeFunction('convertToInteractive',\n",
              "                                                     [key], {});\n",
              "          if (!dataTable) return;\n",
              "\n",
              "          const docLinkHtml = 'Like what you see? Visit the ' +\n",
              "            '<a target=\"_blank\" href=https://colab.research.google.com/notebooks/data_table.ipynb>data table notebook</a>'\n",
              "            + ' to learn more about interactive tables.';\n",
              "          element.innerHTML = '';\n",
              "          dataTable['output_type'] = 'display_data';\n",
              "          await google.colab.output.renderOutput(dataTable, element);\n",
              "          const docLink = document.createElement('div');\n",
              "          docLink.innerHTML = docLinkHtml;\n",
              "          element.appendChild(docLink);\n",
              "        }\n",
              "      </script>\n",
              "    </div>\n",
              "  </div>\n",
              "  "
            ]
          },
          "metadata": {},
          "execution_count": 80
        }
      ]
    },
    {
      "cell_type": "code",
      "source": [
        "np.percentile(pddf.price,2)"
      ],
      "metadata": {
        "colab": {
          "base_uri": "https://localhost:8080/"
        },
        "id": "iNILhM_n8NNY",
        "outputId": "157de9ac-8e75-48d0-c263-868c29222028"
      },
      "execution_count": 82,
      "outputs": [
        {
          "output_type": "execute_result",
          "data": {
            "text/plain": [
              "142486.0"
            ]
          },
          "metadata": {},
          "execution_count": 82
        }
      ]
    },
    {
      "cell_type": "code",
      "source": [
        "#Analizar valores incoherentes del target\n",
        "pddf = pddf.loc[pddf.price >= 10000]"
      ],
      "metadata": {
        "id": "8bCSjlRQ7zYw"
      },
      "execution_count": 85,
      "outputs": []
    },
    {
      "cell_type": "code",
      "source": [
        "#Creando algunas variables\n",
        "pddf['year'] = pddf.date.apply(lambda x: int(x[:4]))\n",
        "pddf['ant_built'] = pddf.year - pddf.yr_built\n",
        "pddf['ant_renovated'] = pddf.year - pddf.yr_renovated.apply(lambda x: None if x==0 else x)"
      ],
      "metadata": {
        "id": "aRaMcWiKt_Fz"
      },
      "execution_count": 86,
      "outputs": []
    },
    {
      "cell_type": "code",
      "source": [
        "pddf.ant_renovated.hist()"
      ],
      "metadata": {
        "colab": {
          "base_uri": "https://localhost:8080/",
          "height": 447
        },
        "id": "ioEjsGyUt_DW",
        "outputId": "5412a81e-0dbd-489a-9599-e7bae09aebc3"
      },
      "execution_count": 16,
      "outputs": [
        {
          "output_type": "execute_result",
          "data": {
            "text/plain": [
              "<Axes: >"
            ]
          },
          "metadata": {},
          "execution_count": 16
        },
        {
          "output_type": "display_data",
          "data": {
            "text/plain": [
              "<Figure size 640x480 with 1 Axes>"
            ],
            "image/png": "[encoded data removed]"
          },
          "metadata": {}
        }
      ]
    },
    {
      "cell_type": "code",
      "source": [
        "#Por el momento, sólo nos quedamos con variables numericas\n",
        "pddf.select_dtypes(include='object').columns.tolist()"
      ],
      "metadata": {
        "colab": {
          "base_uri": "https://localhost:8080/"
        },
        "id": "1xEg7Lmp5yi9",
        "outputId": "4011cc20-65c9-4f28-8058-435a198aca87"
      },
      "execution_count": 18,
      "outputs": [
        {
          "output_type": "execute_result",
          "data": {
            "text/plain": [
              "['date', 'street', 'city', 'statezip', 'country']"
            ]
          },
          "metadata": {},
          "execution_count": 18
        }
      ]
    },
    {
      "cell_type": "code",
      "source": [
        "features = list(set(pddf.columns.tolist()) - set(['price','year','yr_built','yr_renovated']+pddf.select_dtypes(include='object').columns.tolist()))\n",
        "data = pddf[features + [target]]"
      ],
      "metadata": {
        "id": "LO6ioWVN7Hxz"
      },
      "execution_count": 87,
      "outputs": []
    },
    {
      "cell_type": "code",
      "source": [
        "data.head()"
      ],
      "metadata": {
        "colab": {
          "base_uri": "https://localhost:8080/",
          "height": 206
        },
        "id": "AuPbrU-e7Ht0",
        "outputId": "1a77a186-af81-42d4-ab0b-18c1e3a2516c"
      },
      "execution_count": 20,
      "outputs": [
        {
          "output_type": "execute_result",
          "data": {
            "text/plain": [
              "   ant_renovated  waterfront  ant_built  sqft_lot  floors  sqft_basement  \\\n",
              "0            9.0           0         59      7912     1.5              0   \n",
              "1            NaN           0         93      9050     2.0            280   \n",
              "2            NaN           0         48     11947     1.0              0   \n",
              "3            NaN           0         51      8030     1.0           1000   \n",
              "4           22.0           0         38     10500     1.0            800   \n",
              "\n",
              "   sqft_above  view  sqft_living  bathrooms  condition  bedrooms      price  \n",
              "0        1340     0         1340       1.50          3       3.0   313000.0  \n",
              "1        3370     4         3650       2.50          5       5.0  2384000.0  \n",
              "2        1930     0         1930       2.00          4       3.0   342000.0  \n",
              "3        1000     0         2000       2.25          4       3.0   420000.0  \n",
              "4        1140     0         1940       2.50          4       4.0   550000.0  "
            ],
            "text/html": [
              "\n",
              "  <div id=\"df-31a79f82-10dc-4ac4-99e2-06fc7c494cd9\">\n",
              "    <div class=\"colab-df-container\">\n",
              "      <div>\n",
              "<style scoped>\n",
              "    .dataframe tbody tr th:only-of-type {\n",
              "        vertical-align: middle;\n",
              "    }\n",
              "\n",
              "    .dataframe tbody tr th {\n",
              "        vertical-align: top;\n",
              "    }\n",
              "\n",
              "    .dataframe thead th {\n",
              "        text-align: right;\n",
              "    }\n",
              "</style>\n",
              "<table border=\"1\" class=\"dataframe\">\n",
              "  <thead>\n",
              "    <tr style=\"text-align: right;\">\n",
              "      <th></th>\n",
              "      <th>ant_renovated</th>\n",
              "      <th>waterfront</th>\n",
              "      <th>ant_built</th>\n",
              "      <th>sqft_lot</th>\n",
              "      <th>floors</th>\n",
              "      <th>sqft_basement</th>\n",
              "      <th>sqft_above</th>\n",
              "      <th>view</th>\n",
              "      <th>sqft_living</th>\n",
              "      <th>bathrooms</th>\n",
              "      <th>condition</th>\n",
              "      <th>bedrooms</th>\n",
              "      <th>price</th>\n",
              "    </tr>\n",
              "  </thead>\n",
              "  <tbody>\n",
              "    <tr>\n",
              "      <th>0</th>\n",
              "      <td>9.0</td>\n",
              "      <td>0</td>\n",
              "      <td>59</td>\n",
              "      <td>7912</td>\n",
              "      <td>1.5</td>\n",
              "      <td>0</td>\n",
              "      <td>1340</td>\n",
              "      <td>0</td>\n",
              "      <td>1340</td>\n",
              "      <td>1.50</td>\n",
              "      <td>3</td>\n",
              "      <td>3.0</td>\n",
              "      <td>313000.0</td>\n",
              "    </tr>\n",
              "    <tr>\n",
              "      <th>1</th>\n",
              "      <td>NaN</td>\n",
              "      <td>0</td>\n",
              "      <td>93</td>\n",
              "      <td>9050</td>\n",
              "      <td>2.0</td>\n",
              "      <td>280</td>\n",
              "      <td>3370</td>\n",
              "      <td>4</td>\n",
              "      <td>3650</td>\n",
              "      <td>2.50</td>\n",
              "      <td>5</td>\n",
              "      <td>5.0</td>\n",
              "      <td>2384000.0</td>\n",
              "    </tr>\n",
              "    <tr>\n",
              "      <th>2</th>\n",
              "      <td>NaN</td>\n",
              "      <td>0</td>\n",
              "      <td>48</td>\n",
              "      <td>11947</td>\n",
              "      <td>1.0</td>\n",
              "      <td>0</td>\n",
              "      <td>1930</td>\n",
              "      <td>0</td>\n",
              "      <td>1930</td>\n",
              "      <td>2.00</td>\n",
              "      <td>4</td>\n",
              "      <td>3.0</td>\n",
              "      <td>342000.0</td>\n",
              "    </tr>\n",
              "    <tr>\n",
              "      <th>3</th>\n",
              "      <td>NaN</td>\n",
              "      <td>0</td>\n",
              "      <td>51</td>\n",
              "      <td>8030</td>\n",
              "      <td>1.0</td>\n",
              "      <td>1000</td>\n",
              "      <td>1000</td>\n",
              "      <td>0</td>\n",
              "      <td>2000</td>\n",
              "      <td>2.25</td>\n",
              "      <td>4</td>\n",
              "      <td>3.0</td>\n",
              "      <td>420000.0</td>\n",
              "    </tr>\n",
              "    <tr>\n",
              "      <th>4</th>\n",
              "      <td>22.0</td>\n",
              "      <td>0</td>\n",
              "      <td>38</td>\n",
              "      <td>10500</td>\n",
              "      <td>1.0</td>\n",
              "      <td>800</td>\n",
              "      <td>1140</td>\n",
              "      <td>0</td>\n",
              "      <td>1940</td>\n",
              "      <td>2.50</td>\n",
              "      <td>4</td>\n",
              "      <td>4.0</td>\n",
              "      <td>550000.0</td>\n",
              "    </tr>\n",
              "  </tbody>\n",
              "</table>\n",
              "</div>\n",
              "      <button class=\"colab-df-convert\" onclick=\"convertToInteractive('df-31a79f82-10dc-4ac4-99e2-06fc7c494cd9')\"\n",
              "              title=\"Convert this dataframe to an interactive table.\"\n",
              "              style=\"display:none;\">\n",
              "        \n",
              "  <svg xmlns=\"http://www.w3.org/2000/svg\" height=\"24px\"viewBox=\"0 0 24 24\"\n",
              "       width=\"24px\">\n",
              "    <path d=\"M0 0h24v24H0V0z\" fill=\"none\"/>\n",
              "    <path d=\"M18.56 5.44l.94 2.06.94-2.06 2.06-.94-2.06-.94-.94-2.06-.94 2.06-2.06.94zm-11 1L8.5 8.5l.94-2.06 2.06-.94-2.06-.94L8.5 2.5l-.94 2.06-2.06.94zm10 10l.94 2.06.94-2.06 2.06-.94-2.06-.94-.94-2.06-.94 2.06-2.06.94z\"/><path d=\"M17.41 7.96l-1.37-1.37c-.4-.4-.92-.59-1.43-.59-.52 0-1.04.2-1.43.59L10.3 9.45l-7.72 7.72c-.78.78-.78 2.05 0 2.83L4 21.41c.39.39.9.59 1.41.59.51 0 1.02-.2 1.41-.59l7.78-7.78 2.81-2.81c.8-.78.8-2.07 0-2.86zM5.41 20L4 18.59l7.72-7.72 1.47 1.35L5.41 20z\"/>\n",
              "  </svg>\n",
              "      </button>\n",
              "      \n",
              "  <style>\n",
              "    .colab-df-container {\n",
              "      display:flex;\n",
              "      flex-wrap:wrap;\n",
              "      gap: 12px;\n",
              "    }\n",
              "\n",
              "    .colab-df-convert {\n",
              "      background-color: #E8F0FE;\n",
              "      border: none;\n",
              "      border-radius: 50%;\n",
              "      cursor: pointer;\n",
              "      display: none;\n",
              "      fill: #1967D2;\n",
              "      height: 32px;\n",
              "      padding: 0 0 0 0;\n",
              "      width: 32px;\n",
              "    }\n",
              "\n",
              "    .colab-df-convert:hover {\n",
              "      background-color: #E2EBFA;\n",
              "      box-shadow: 0px 1px 2px rgba(60, 64, 67, 0.3), 0px 1px 3px 1px rgba(60, 64, 67, 0.15);\n",
              "      fill: #174EA6;\n",
              "    }\n",
              "\n",
              "    [theme=dark] .colab-df-convert {\n",
              "      background-color: #3B4455;\n",
              "      fill: #D2E3FC;\n",
              "    }\n",
              "\n",
              "    [theme=dark] .colab-df-convert:hover {\n",
              "      background-color: #434B5C;\n",
              "      box-shadow: 0px 1px 3px 1px rgba(0, 0, 0, 0.15);\n",
              "      filter: drop-shadow(0px 1px 2px rgba(0, 0, 0, 0.3));\n",
              "      fill: #FFFFFF;\n",
              "    }\n",
              "  </style>\n",
              "\n",
              "      <script>\n",
              "        const buttonEl =\n",
              "          document.querySelector('#df-31a79f82-10dc-4ac4-99e2-06fc7c494cd9 button.colab-df-convert');\n",
              "        buttonEl.style.display =\n",
              "          google.colab.kernel.accessAllowed ? 'block' : 'none';\n",
              "\n",
              "        async function convertToInteractive(key) {\n",
              "          const element = document.querySelector('#df-31a79f82-10dc-4ac4-99e2-06fc7c494cd9');\n",
              "          const dataTable =\n",
              "            await google.colab.kernel.invokeFunction('convertToInteractive',\n",
              "                                                     [key], {});\n",
              "          if (!dataTable) return;\n",
              "\n",
              "          const docLinkHtml = 'Like what you see? Visit the ' +\n",
              "            '<a target=\"_blank\" href=https://colab.research.google.com/notebooks/data_table.ipynb>data table notebook</a>'\n",
              "            + ' to learn more about interactive tables.';\n",
              "          element.innerHTML = '';\n",
              "          dataTable['output_type'] = 'display_data';\n",
              "          await google.colab.output.renderOutput(dataTable, element);\n",
              "          const docLink = document.createElement('div');\n",
              "          docLink.innerHTML = docLinkHtml;\n",
              "          element.appendChild(docLink);\n",
              "        }\n",
              "      </script>\n",
              "    </div>\n",
              "  </div>\n",
              "  "
            ]
          },
          "metadata": {},
          "execution_count": 20
        }
      ]
    },
    {
      "cell_type": "markdown",
      "source": [
        "# Seleccion de muestras"
      ],
      "metadata": {
        "id": "mf6Dnbun-4Ms"
      }
    },
    {
      "cell_type": "code",
      "source": [
        "# Muestreo\n",
        "from sklearn.model_selection import train_test_split\n",
        "\n",
        "train,test = train_test_split(data,\n",
        "                              train_size=0.7,\n",
        "                              random_state=123)"
      ],
      "metadata": {
        "id": "TijJEQ6N-59m"
      },
      "execution_count": 88,
      "outputs": []
    },
    {
      "cell_type": "code",
      "source": [
        "print(f\"Total data size {data.shape}\")\n",
        "print(f\"Total train size {train.shape}\")\n",
        "print(f\"Total test size {test.shape}\")"
      ],
      "metadata": {
        "id": "tNrOfgcQ-57Z",
        "colab": {
          "base_uri": "https://localhost:8080/"
        },
        "outputId": "515510f0-8236-4a52-db07-810b7f92b463"
      },
      "execution_count": 89,
      "outputs": [
        {
          "output_type": "stream",
          "name": "stdout",
          "text": [
            "Total data size (4550, 13)\n",
            "Total train size (3185, 13)\n",
            "Total test size (1365, 13)\n"
          ]
        }
      ]
    },
    {
      "cell_type": "markdown",
      "source": [
        "# Analisis univariado de datos"
      ],
      "metadata": {
        "id": "PcRGZNWqejPI"
      }
    },
    {
      "cell_type": "code",
      "source": [
        "#sns.relplot(x=\"bathrooms\",y=\"price\",data=train.loc[train.price<5000000])\n",
        "sns.regplot(x=\"bathrooms\",y=\"price\",data=train.loc[train.price<5000000])"
      ],
      "metadata": {
        "colab": {
          "base_uri": "https://localhost:8080/",
          "height": 491
        },
        "id": "H67KBdcEfC-e",
        "outputId": "60fcb4a9-db9d-4ca4-fb38-fb34684781db"
      },
      "execution_count": 90,
      "outputs": [
        {
          "output_type": "execute_result",
          "data": {
            "text/plain": [
              "<Axes: xlabel='bathrooms', ylabel='price'>"
            ]
          },
          "metadata": {},
          "execution_count": 90
        },
        {
          "output_type": "display_data",
          "data": {
            "text/plain": [
              "<Figure size 640x480 with 1 Axes>"
            ],
            "image/png": "[encoded data removed]"
          },
          "metadata": {}
        }
      ]
    },
    {
      "cell_type": "code",
      "source": [
        "univariate = train.describe().transpose()\n",
        "univariate.reset_index(inplace=True)"
      ],
      "metadata": {
        "id": "sa9zY_YNe7ck"
      },
      "execution_count": 91,
      "outputs": []
    },
    {
      "cell_type": "code",
      "source": [
        "#Cambiando nombre de las variables\n",
        "univariate.rename(columns={\n",
        "  'index':'feature',\n",
        "  '25%':'Q1',\n",
        "  '50%':'Q2',\n",
        "  '75%':'Q3'\n",
        "},inplace=True)"
      ],
      "metadata": {
        "id": "hzeomkEugYog"
      },
      "execution_count": 92,
      "outputs": []
    },
    {
      "cell_type": "code",
      "source": [
        "#Creando columna de número de missings\n",
        "univariate['missing_rate'] = 1 - univariate['count'] / train.shape[0]"
      ],
      "metadata": {
        "id": "GxVeR68Yh_Dy"
      },
      "execution_count": 93,
      "outputs": []
    },
    {
      "cell_type": "code",
      "source": [
        "#Ordenando el dataframe por 'missing_rate'\n",
        "univariate.sort_values(by='missing_rate',ascending=False, inplace=True)\n",
        "\n",
        "#¿Que hacer con la variable 'ant_renovated' que tiene un 60% de missing?"
      ],
      "metadata": {
        "id": "lEIaTONliaYM"
      },
      "execution_count": 94,
      "outputs": []
    },
    {
      "cell_type": "code",
      "source": [
        "univariate.head()"
      ],
      "metadata": {
        "colab": {
          "base_uri": "https://localhost:8080/",
          "height": 206
        },
        "id": "7sow8uOujeCU",
        "outputId": "d965ea43-f2c5-46fc-e740-fdd18acbcc89"
      },
      "execution_count": 49,
      "outputs": [
        {
          "output_type": "execute_result",
          "data": {
            "text/plain": [
              "         feature   count          mean           std    min      Q1      Q2  \\\n",
              "0  ant_renovated  1304.0     19.449387     21.469081    0.0     8.0    13.0   \n",
              "1     waterfront  3220.0      0.006522      0.080506    0.0     0.0     0.0   \n",
              "2      ant_built  3220.0     43.188199     29.748077    0.0    17.0    38.0   \n",
              "3       sqft_lot  3220.0  15021.657764  33898.239766  638.0  5040.0  7730.0   \n",
              "4         floors  3220.0      1.510870      0.539988    1.0     1.0     1.5   \n",
              "\n",
              "         Q3       max  missing_rate  \n",
              "0     22.00     102.0      0.595031  \n",
              "1      0.00       1.0      0.000000  \n",
              "2     63.00     114.0      0.000000  \n",
              "3  11071.25  641203.0      0.000000  \n",
              "4      2.00       3.5      0.000000  "
            ],
            "text/html": [
              "\n",
              "  <div id=\"df-c2e2cc7b-e74e-46f9-b0d7-85f148d79324\">\n",
              "    <div class=\"colab-df-container\">\n",
              "      <div>\n",
              "<style scoped>\n",
              "    .dataframe tbody tr th:only-of-type {\n",
              "        vertical-align: middle;\n",
              "    }\n",
              "\n",
              "    .dataframe tbody tr th {\n",
              "        vertical-align: top;\n",
              "    }\n",
              "\n",
              "    .dataframe thead th {\n",
              "        text-align: right;\n",
              "    }\n",
              "</style>\n",
              "<table border=\"1\" class=\"dataframe\">\n",
              "  <thead>\n",
              "    <tr style=\"text-align: right;\">\n",
              "      <th></th>\n",
              "      <th>feature</th>\n",
              "      <th>count</th>\n",
              "      <th>mean</th>\n",
              "      <th>std</th>\n",
              "      <th>min</th>\n",
              "      <th>Q1</th>\n",
              "      <th>Q2</th>\n",
              "      <th>Q3</th>\n",
              "      <th>max</th>\n",
              "      <th>missing_rate</th>\n",
              "    </tr>\n",
              "  </thead>\n",
              "  <tbody>\n",
              "    <tr>\n",
              "      <th>0</th>\n",
              "      <td>ant_renovated</td>\n",
              "      <td>1304.0</td>\n",
              "      <td>19.449387</td>\n",
              "      <td>21.469081</td>\n",
              "      <td>0.0</td>\n",
              "      <td>8.0</td>\n",
              "      <td>13.0</td>\n",
              "      <td>22.00</td>\n",
              "      <td>102.0</td>\n",
              "      <td>0.595031</td>\n",
              "    </tr>\n",
              "    <tr>\n",
              "      <th>1</th>\n",
              "      <td>waterfront</td>\n",
              "      <td>3220.0</td>\n",
              "      <td>0.006522</td>\n",
              "      <td>0.080506</td>\n",
              "      <td>0.0</td>\n",
              "      <td>0.0</td>\n",
              "      <td>0.0</td>\n",
              "      <td>0.00</td>\n",
              "      <td>1.0</td>\n",
              "      <td>0.000000</td>\n",
              "    </tr>\n",
              "    <tr>\n",
              "      <th>2</th>\n",
              "      <td>ant_built</td>\n",
              "      <td>3220.0</td>\n",
              "      <td>43.188199</td>\n",
              "      <td>29.748077</td>\n",
              "      <td>0.0</td>\n",
              "      <td>17.0</td>\n",
              "      <td>38.0</td>\n",
              "      <td>63.00</td>\n",
              "      <td>114.0</td>\n",
              "      <td>0.000000</td>\n",
              "    </tr>\n",
              "    <tr>\n",
              "      <th>3</th>\n",
              "      <td>sqft_lot</td>\n",
              "      <td>3220.0</td>\n",
              "      <td>15021.657764</td>\n",
              "      <td>33898.239766</td>\n",
              "      <td>638.0</td>\n",
              "      <td>5040.0</td>\n",
              "      <td>7730.0</td>\n",
              "      <td>11071.25</td>\n",
              "      <td>641203.0</td>\n",
              "      <td>0.000000</td>\n",
              "    </tr>\n",
              "    <tr>\n",
              "      <th>4</th>\n",
              "      <td>floors</td>\n",
              "      <td>3220.0</td>\n",
              "      <td>1.510870</td>\n",
              "      <td>0.539988</td>\n",
              "      <td>1.0</td>\n",
              "      <td>1.0</td>\n",
              "      <td>1.5</td>\n",
              "      <td>2.00</td>\n",
              "      <td>3.5</td>\n",
              "      <td>0.000000</td>\n",
              "    </tr>\n",
              "  </tbody>\n",
              "</table>\n",
              "</div>\n",
              "      <button class=\"colab-df-convert\" onclick=\"convertToInteractive('df-c2e2cc7b-e74e-46f9-b0d7-85f148d79324')\"\n",
              "              title=\"Convert this dataframe to an interactive table.\"\n",
              "              style=\"display:none;\">\n",
              "        \n",
              "  <svg xmlns=\"http://www.w3.org/2000/svg\" height=\"24px\"viewBox=\"0 0 24 24\"\n",
              "       width=\"24px\">\n",
              "    <path d=\"M0 0h24v24H0V0z\" fill=\"none\"/>\n",
              "    <path d=\"M18.56 5.44l.94 2.06.94-2.06 2.06-.94-2.06-.94-.94-2.06-.94 2.06-2.06.94zm-11 1L8.5 8.5l.94-2.06 2.06-.94-2.06-.94L8.5 2.5l-.94 2.06-2.06.94zm10 10l.94 2.06.94-2.06 2.06-.94-2.06-.94-.94-2.06-.94 2.06-2.06.94z\"/><path d=\"M17.41 7.96l-1.37-1.37c-.4-.4-.92-.59-1.43-.59-.52 0-1.04.2-1.43.59L10.3 9.45l-7.72 7.72c-.78.78-.78 2.05 0 2.83L4 21.41c.39.39.9.59 1.41.59.51 0 1.02-.2 1.41-.59l7.78-7.78 2.81-2.81c.8-.78.8-2.07 0-2.86zM5.41 20L4 18.59l7.72-7.72 1.47 1.35L5.41 20z\"/>\n",
              "  </svg>\n",
              "      </button>\n",
              "      \n",
              "  <style>\n",
              "    .colab-df-container {\n",
              "      display:flex;\n",
              "      flex-wrap:wrap;\n",
              "      gap: 12px;\n",
              "    }\n",
              "\n",
              "    .colab-df-convert {\n",
              "      background-color: #E8F0FE;\n",
              "      border: none;\n",
              "      border-radius: 50%;\n",
              "      cursor: pointer;\n",
              "      display: none;\n",
              "      fill: #1967D2;\n",
              "      height: 32px;\n",
              "      padding: 0 0 0 0;\n",
              "      width: 32px;\n",
              "    }\n",
              "\n",
              "    .colab-df-convert:hover {\n",
              "      background-color: #E2EBFA;\n",
              "      box-shadow: 0px 1px 2px rgba(60, 64, 67, 0.3), 0px 1px 3px 1px rgba(60, 64, 67, 0.15);\n",
              "      fill: #174EA6;\n",
              "    }\n",
              "\n",
              "    [theme=dark] .colab-df-convert {\n",
              "      background-color: #3B4455;\n",
              "      fill: #D2E3FC;\n",
              "    }\n",
              "\n",
              "    [theme=dark] .colab-df-convert:hover {\n",
              "      background-color: #434B5C;\n",
              "      box-shadow: 0px 1px 3px 1px rgba(0, 0, 0, 0.15);\n",
              "      filter: drop-shadow(0px 1px 2px rgba(0, 0, 0, 0.3));\n",
              "      fill: #FFFFFF;\n",
              "    }\n",
              "  </style>\n",
              "\n",
              "      <script>\n",
              "        const buttonEl =\n",
              "          document.querySelector('#df-c2e2cc7b-e74e-46f9-b0d7-85f148d79324 button.colab-df-convert');\n",
              "        buttonEl.style.display =\n",
              "          google.colab.kernel.accessAllowed ? 'block' : 'none';\n",
              "\n",
              "        async function convertToInteractive(key) {\n",
              "          const element = document.querySelector('#df-c2e2cc7b-e74e-46f9-b0d7-85f148d79324');\n",
              "          const dataTable =\n",
              "            await google.colab.kernel.invokeFunction('convertToInteractive',\n",
              "                                                     [key], {});\n",
              "          if (!dataTable) return;\n",
              "\n",
              "          const docLinkHtml = 'Like what you see? Visit the ' +\n",
              "            '<a target=\"_blank\" href=https://colab.research.google.com/notebooks/data_table.ipynb>data table notebook</a>'\n",
              "            + ' to learn more about interactive tables.';\n",
              "          element.innerHTML = '';\n",
              "          dataTable['output_type'] = 'display_data';\n",
              "          await google.colab.output.renderOutput(dataTable, element);\n",
              "          const docLink = document.createElement('div');\n",
              "          docLink.innerHTML = docLinkHtml;\n",
              "          element.appendChild(docLink);\n",
              "        }\n",
              "      </script>\n",
              "    </div>\n",
              "  </div>\n",
              "  "
            ]
          },
          "metadata": {},
          "execution_count": 49
        }
      ]
    },
    {
      "cell_type": "code",
      "source": [
        "# Analisis de correlaciones\n",
        "corr_matrix = train.corr()\n",
        "corr_matrix.reset_index(inplace=True)\n",
        "corr_matrix.rename(columns={'index':'feature',target:'correl'},inplace=True)\n",
        "corr_matrix = corr_matrix[['feature','correl']]\n",
        "corr_matrix.head()"
      ],
      "metadata": {
        "id": "KOFozGns-54t",
        "colab": {
          "base_uri": "https://localhost:8080/",
          "height": 206
        },
        "outputId": "c63e4078-0855-41d1-e2ba-4a9be0f50a2b"
      },
      "execution_count": 95,
      "outputs": [
        {
          "output_type": "execute_result",
          "data": {
            "text/plain": [
              "         feature    correl\n",
              "0  ant_renovated  0.039901\n",
              "1     waterfront  0.154196\n",
              "2      ant_built -0.021407\n",
              "3       sqft_lot  0.048334\n",
              "4         floors  0.132755"
            ],
            "text/html": [
              "\n",
              "  <div id=\"df-9d99f1d7-77b3-420c-90c3-861fc1036880\">\n",
              "    <div class=\"colab-df-container\">\n",
              "      <div>\n",
              "<style scoped>\n",
              "    .dataframe tbody tr th:only-of-type {\n",
              "        vertical-align: middle;\n",
              "    }\n",
              "\n",
              "    .dataframe tbody tr th {\n",
              "        vertical-align: top;\n",
              "    }\n",
              "\n",
              "    .dataframe thead th {\n",
              "        text-align: right;\n",
              "    }\n",
              "</style>\n",
              "<table border=\"1\" class=\"dataframe\">\n",
              "  <thead>\n",
              "    <tr style=\"text-align: right;\">\n",
              "      <th></th>\n",
              "      <th>feature</th>\n",
              "      <th>correl</th>\n",
              "    </tr>\n",
              "  </thead>\n",
              "  <tbody>\n",
              "    <tr>\n",
              "      <th>0</th>\n",
              "      <td>ant_renovated</td>\n",
              "      <td>0.039901</td>\n",
              "    </tr>\n",
              "    <tr>\n",
              "      <th>1</th>\n",
              "      <td>waterfront</td>\n",
              "      <td>0.154196</td>\n",
              "    </tr>\n",
              "    <tr>\n",
              "      <th>2</th>\n",
              "      <td>ant_built</td>\n",
              "      <td>-0.021407</td>\n",
              "    </tr>\n",
              "    <tr>\n",
              "      <th>3</th>\n",
              "      <td>sqft_lot</td>\n",
              "      <td>0.048334</td>\n",
              "    </tr>\n",
              "    <tr>\n",
              "      <th>4</th>\n",
              "      <td>floors</td>\n",
              "      <td>0.132755</td>\n",
              "    </tr>\n",
              "  </tbody>\n",
              "</table>\n",
              "</div>\n",
              "      <button class=\"colab-df-convert\" onclick=\"convertToInteractive('df-9d99f1d7-77b3-420c-90c3-861fc1036880')\"\n",
              "              title=\"Convert this dataframe to an interactive table.\"\n",
              "              style=\"display:none;\">\n",
              "        \n",
              "  <svg xmlns=\"http://www.w3.org/2000/svg\" height=\"24px\"viewBox=\"0 0 24 24\"\n",
              "       width=\"24px\">\n",
              "    <path d=\"M0 0h24v24H0V0z\" fill=\"none\"/>\n",
              "    <path d=\"M18.56 5.44l.94 2.06.94-2.06 2.06-.94-2.06-.94-.94-2.06-.94 2.06-2.06.94zm-11 1L8.5 8.5l.94-2.06 2.06-.94-2.06-.94L8.5 2.5l-.94 2.06-2.06.94zm10 10l.94 2.06.94-2.06 2.06-.94-2.06-.94-.94-2.06-.94 2.06-2.06.94z\"/><path d=\"M17.41 7.96l-1.37-1.37c-.4-.4-.92-.59-1.43-.59-.52 0-1.04.2-1.43.59L10.3 9.45l-7.72 7.72c-.78.78-.78 2.05 0 2.83L4 21.41c.39.39.9.59 1.41.59.51 0 1.02-.2 1.41-.59l7.78-7.78 2.81-2.81c.8-.78.8-2.07 0-2.86zM5.41 20L4 18.59l7.72-7.72 1.47 1.35L5.41 20z\"/>\n",
              "  </svg>\n",
              "      </button>\n",
              "      \n",
              "  <style>\n",
              "    .colab-df-container {\n",
              "      display:flex;\n",
              "      flex-wrap:wrap;\n",
              "      gap: 12px;\n",
              "    }\n",
              "\n",
              "    .colab-df-convert {\n",
              "      background-color: #E8F0FE;\n",
              "      border: none;\n",
              "      border-radius: 50%;\n",
              "      cursor: pointer;\n",
              "      display: none;\n",
              "      fill: #1967D2;\n",
              "      height: 32px;\n",
              "      padding: 0 0 0 0;\n",
              "      width: 32px;\n",
              "    }\n",
              "\n",
              "    .colab-df-convert:hover {\n",
              "      background-color: #E2EBFA;\n",
              "      box-shadow: 0px 1px 2px rgba(60, 64, 67, 0.3), 0px 1px 3px 1px rgba(60, 64, 67, 0.15);\n",
              "      fill: #174EA6;\n",
              "    }\n",
              "\n",
              "    [theme=dark] .colab-df-convert {\n",
              "      background-color: #3B4455;\n",
              "      fill: #D2E3FC;\n",
              "    }\n",
              "\n",
              "    [theme=dark] .colab-df-convert:hover {\n",
              "      background-color: #434B5C;\n",
              "      box-shadow: 0px 1px 3px 1px rgba(0, 0, 0, 0.15);\n",
              "      filter: drop-shadow(0px 1px 2px rgba(0, 0, 0, 0.3));\n",
              "      fill: #FFFFFF;\n",
              "    }\n",
              "  </style>\n",
              "\n",
              "      <script>\n",
              "        const buttonEl =\n",
              "          document.querySelector('#df-9d99f1d7-77b3-420c-90c3-861fc1036880 button.colab-df-convert');\n",
              "        buttonEl.style.display =\n",
              "          google.colab.kernel.accessAllowed ? 'block' : 'none';\n",
              "\n",
              "        async function convertToInteractive(key) {\n",
              "          const element = document.querySelector('#df-9d99f1d7-77b3-420c-90c3-861fc1036880');\n",
              "          const dataTable =\n",
              "            await google.colab.kernel.invokeFunction('convertToInteractive',\n",
              "                                                     [key], {});\n",
              "          if (!dataTable) return;\n",
              "\n",
              "          const docLinkHtml = 'Like what you see? Visit the ' +\n",
              "            '<a target=\"_blank\" href=https://colab.research.google.com/notebooks/data_table.ipynb>data table notebook</a>'\n",
              "            + ' to learn more about interactive tables.';\n",
              "          element.innerHTML = '';\n",
              "          dataTable['output_type'] = 'display_data';\n",
              "          await google.colab.output.renderOutput(dataTable, element);\n",
              "          const docLink = document.createElement('div');\n",
              "          docLink.innerHTML = docLinkHtml;\n",
              "          element.appendChild(docLink);\n",
              "        }\n",
              "      </script>\n",
              "    </div>\n",
              "  </div>\n",
              "  "
            ]
          },
          "metadata": {},
          "execution_count": 95
        }
      ]
    },
    {
      "cell_type": "code",
      "source": [
        "#Cruce para obtener las variables más importantes que se relacionan con el target\n",
        "univariate_II = pd.merge(univariate,corr_matrix,on='feature',how='inner')\n",
        "univariate_II['correl_abs'] = univariate_II.correl.apply(lambda x: abs(x))\n",
        "univariate_II.sort_values(by='correl_abs', ascending=False, inplace=True)\n",
        "univariate_II.head()"
      ],
      "metadata": {
        "colab": {
          "base_uri": "https://localhost:8080/",
          "height": 206
        },
        "id": "n-zBs2upuo4u",
        "outputId": "5d3ece86-28c2-4fcf-8310-c0dd7ce3052a"
      },
      "execution_count": 96,
      "outputs": [
        {
          "output_type": "execute_result",
          "data": {
            "text/plain": [
              "        feature   count           mean            std      min         Q1  \\\n",
              "12        price  3185.0  559046.654641  627775.352934  80000.0  329350.00   \n",
              "8   sqft_living  3185.0    2134.329356     951.982266    370.0    1470.00   \n",
              "6    sqft_above  3185.0    1819.907064     848.854618    370.0    1200.00   \n",
              "9     bathrooms  3185.0       2.163658       0.774415      0.0       1.75   \n",
              "7          view  3185.0       0.236735       0.766261      0.0       0.00   \n",
              "\n",
              "           Q2        Q3         max  missing_rate    correl  correl_abs  \n",
              "12  465000.00  650000.0  26590000.0           0.0  1.000000    1.000000  \n",
              "8     1980.00    2600.0     13540.0           0.0  0.396258    0.396258  \n",
              "6     1590.00    2290.0      9410.0           0.0  0.335910    0.335910  \n",
              "9        2.25       2.5         8.0           0.0  0.303729    0.303729  \n",
              "7        0.00       0.0         4.0           0.0  0.225895    0.225895  "
            ],
            "text/html": [
              "\n",
              "  <div id=\"df-e7c3bc1f-8ff7-4054-bd54-e46d09f95af7\">\n",
              "    <div class=\"colab-df-container\">\n",
              "      <div>\n",
              "<style scoped>\n",
              "    .dataframe tbody tr th:only-of-type {\n",
              "        vertical-align: middle;\n",
              "    }\n",
              "\n",
              "    .dataframe tbody tr th {\n",
              "        vertical-align: top;\n",
              "    }\n",
              "\n",
              "    .dataframe thead th {\n",
              "        text-align: right;\n",
              "    }\n",
              "</style>\n",
              "<table border=\"1\" class=\"dataframe\">\n",
              "  <thead>\n",
              "    <tr style=\"text-align: right;\">\n",
              "      <th></th>\n",
              "      <th>feature</th>\n",
              "      <th>count</th>\n",
              "      <th>mean</th>\n",
              "      <th>std</th>\n",
              "      <th>min</th>\n",
              "      <th>Q1</th>\n",
              "      <th>Q2</th>\n",
              "      <th>Q3</th>\n",
              "      <th>max</th>\n",
              "      <th>missing_rate</th>\n",
              "      <th>correl</th>\n",
              "      <th>correl_abs</th>\n",
              "    </tr>\n",
              "  </thead>\n",
              "  <tbody>\n",
              "    <tr>\n",
              "      <th>12</th>\n",
              "      <td>price</td>\n",
              "      <td>3185.0</td>\n",
              "      <td>559046.654641</td>\n",
              "      <td>627775.352934</td>\n",
              "      <td>80000.0</td>\n",
              "      <td>329350.00</td>\n",
              "      <td>465000.00</td>\n",
              "      <td>650000.0</td>\n",
              "      <td>26590000.0</td>\n",
              "      <td>0.0</td>\n",
              "      <td>1.000000</td>\n",
              "      <td>1.000000</td>\n",
              "    </tr>\n",
              "    <tr>\n",
              "      <th>8</th>\n",
              "      <td>sqft_living</td>\n",
              "      <td>3185.0</td>\n",
              "      <td>2134.329356</td>\n",
              "      <td>951.982266</td>\n",
              "      <td>370.0</td>\n",
              "      <td>1470.00</td>\n",
              "      <td>1980.00</td>\n",
              "      <td>2600.0</td>\n",
              "      <td>13540.0</td>\n",
              "      <td>0.0</td>\n",
              "      <td>0.396258</td>\n",
              "      <td>0.396258</td>\n",
              "    </tr>\n",
              "    <tr>\n",
              "      <th>6</th>\n",
              "      <td>sqft_above</td>\n",
              "      <td>3185.0</td>\n",
              "      <td>1819.907064</td>\n",
              "      <td>848.854618</td>\n",
              "      <td>370.0</td>\n",
              "      <td>1200.00</td>\n",
              "      <td>1590.00</td>\n",
              "      <td>2290.0</td>\n",
              "      <td>9410.0</td>\n",
              "      <td>0.0</td>\n",
              "      <td>0.335910</td>\n",
              "      <td>0.335910</td>\n",
              "    </tr>\n",
              "    <tr>\n",
              "      <th>9</th>\n",
              "      <td>bathrooms</td>\n",
              "      <td>3185.0</td>\n",
              "      <td>2.163658</td>\n",
              "      <td>0.774415</td>\n",
              "      <td>0.0</td>\n",
              "      <td>1.75</td>\n",
              "      <td>2.25</td>\n",
              "      <td>2.5</td>\n",
              "      <td>8.0</td>\n",
              "      <td>0.0</td>\n",
              "      <td>0.303729</td>\n",
              "      <td>0.303729</td>\n",
              "    </tr>\n",
              "    <tr>\n",
              "      <th>7</th>\n",
              "      <td>view</td>\n",
              "      <td>3185.0</td>\n",
              "      <td>0.236735</td>\n",
              "      <td>0.766261</td>\n",
              "      <td>0.0</td>\n",
              "      <td>0.00</td>\n",
              "      <td>0.00</td>\n",
              "      <td>0.0</td>\n",
              "      <td>4.0</td>\n",
              "      <td>0.0</td>\n",
              "      <td>0.225895</td>\n",
              "      <td>0.225895</td>\n",
              "    </tr>\n",
              "  </tbody>\n",
              "</table>\n",
              "</div>\n",
              "      <button class=\"colab-df-convert\" onclick=\"convertToInteractive('df-e7c3bc1f-8ff7-4054-bd54-e46d09f95af7')\"\n",
              "              title=\"Convert this dataframe to an interactive table.\"\n",
              "              style=\"display:none;\">\n",
              "        \n",
              "  <svg xmlns=\"http://www.w3.org/2000/svg\" height=\"24px\"viewBox=\"0 0 24 24\"\n",
              "       width=\"24px\">\n",
              "    <path d=\"M0 0h24v24H0V0z\" fill=\"none\"/>\n",
              "    <path d=\"M18.56 5.44l.94 2.06.94-2.06 2.06-.94-2.06-.94-.94-2.06-.94 2.06-2.06.94zm-11 1L8.5 8.5l.94-2.06 2.06-.94-2.06-.94L8.5 2.5l-.94 2.06-2.06.94zm10 10l.94 2.06.94-2.06 2.06-.94-2.06-.94-.94-2.06-.94 2.06-2.06.94z\"/><path d=\"M17.41 7.96l-1.37-1.37c-.4-.4-.92-.59-1.43-.59-.52 0-1.04.2-1.43.59L10.3 9.45l-7.72 7.72c-.78.78-.78 2.05 0 2.83L4 21.41c.39.39.9.59 1.41.59.51 0 1.02-.2 1.41-.59l7.78-7.78 2.81-2.81c.8-.78.8-2.07 0-2.86zM5.41 20L4 18.59l7.72-7.72 1.47 1.35L5.41 20z\"/>\n",
              "  </svg>\n",
              "      </button>\n",
              "      \n",
              "  <style>\n",
              "    .colab-df-container {\n",
              "      display:flex;\n",
              "      flex-wrap:wrap;\n",
              "      gap: 12px;\n",
              "    }\n",
              "\n",
              "    .colab-df-convert {\n",
              "      background-color: #E8F0FE;\n",
              "      border: none;\n",
              "      border-radius: 50%;\n",
              "      cursor: pointer;\n",
              "      display: none;\n",
              "      fill: #1967D2;\n",
              "      height: 32px;\n",
              "      padding: 0 0 0 0;\n",
              "      width: 32px;\n",
              "    }\n",
              "\n",
              "    .colab-df-convert:hover {\n",
              "      background-color: #E2EBFA;\n",
              "      box-shadow: 0px 1px 2px rgba(60, 64, 67, 0.3), 0px 1px 3px 1px rgba(60, 64, 67, 0.15);\n",
              "      fill: #174EA6;\n",
              "    }\n",
              "\n",
              "    [theme=dark] .colab-df-convert {\n",
              "      background-color: #3B4455;\n",
              "      fill: #D2E3FC;\n",
              "    }\n",
              "\n",
              "    [theme=dark] .colab-df-convert:hover {\n",
              "      background-color: #434B5C;\n",
              "      box-shadow: 0px 1px 3px 1px rgba(0, 0, 0, 0.15);\n",
              "      filter: drop-shadow(0px 1px 2px rgba(0, 0, 0, 0.3));\n",
              "      fill: #FFFFFF;\n",
              "    }\n",
              "  </style>\n",
              "\n",
              "      <script>\n",
              "        const buttonEl =\n",
              "          document.querySelector('#df-e7c3bc1f-8ff7-4054-bd54-e46d09f95af7 button.colab-df-convert');\n",
              "        buttonEl.style.display =\n",
              "          google.colab.kernel.accessAllowed ? 'block' : 'none';\n",
              "\n",
              "        async function convertToInteractive(key) {\n",
              "          const element = document.querySelector('#df-e7c3bc1f-8ff7-4054-bd54-e46d09f95af7');\n",
              "          const dataTable =\n",
              "            await google.colab.kernel.invokeFunction('convertToInteractive',\n",
              "                                                     [key], {});\n",
              "          if (!dataTable) return;\n",
              "\n",
              "          const docLinkHtml = 'Like what you see? Visit the ' +\n",
              "            '<a target=\"_blank\" href=https://colab.research.google.com/notebooks/data_table.ipynb>data table notebook</a>'\n",
              "            + ' to learn more about interactive tables.';\n",
              "          element.innerHTML = '';\n",
              "          dataTable['output_type'] = 'display_data';\n",
              "          await google.colab.output.renderOutput(dataTable, element);\n",
              "          const docLink = document.createElement('div');\n",
              "          docLink.innerHTML = docLinkHtml;\n",
              "          element.appendChild(docLink);\n",
              "        }\n",
              "      </script>\n",
              "    </div>\n",
              "  </div>\n",
              "  "
            ]
          },
          "metadata": {},
          "execution_count": 96
        }
      ]
    },
    {
      "cell_type": "code",
      "source": [
        "# Se evidencia algunos outliers\n",
        "sns.regplot(x=\"sqft_living\",y=\"price\",data=train.loc[train.price<5000000])"
      ],
      "metadata": {
        "colab": {
          "base_uri": "https://localhost:8080/",
          "height": 482
        },
        "id": "0iG6L2VWwLcQ",
        "outputId": "ad06f552-00ab-4beb-8bd2-5e5542fe49eb"
      },
      "execution_count": 56,
      "outputs": [
        {
          "output_type": "execute_result",
          "data": {
            "text/plain": [
              "<Axes: xlabel='sqft_living', ylabel='price'>"
            ]
          },
          "metadata": {},
          "execution_count": 56
        },
        {
          "output_type": "display_data",
          "data": {
            "text/plain": [
              "<Figure size 640x480 with 1 Axes>"
            ],
            "image/png": "[encoded data removed]"
          },
          "metadata": {}
        }
      ]
    },
    {
      "cell_type": "markdown",
      "source": [
        "# Pre-selección de variables\n",
        "\n",
        "Es importante en esta etapa identificar aquellos features con mayor potencial para predecir el target. Se pueden establecer umbrales como por ejm, excluir corr<0.1 y missing_rate>0.9"
      ],
      "metadata": {
        "id": "AkerAlvfvXfd"
      }
    },
    {
      "cell_type": "code",
      "source": [
        "feature_prefilter = list(set(univariate_II.loc[(univariate_II.correl_abs>=0.1) & (univariate_II.missing_rate<=0.9)].feature.tolist()) - set([target]))"
      ],
      "metadata": {
        "id": "kHsI-4lSvZ1-"
      },
      "execution_count": 97,
      "outputs": []
    },
    {
      "cell_type": "code",
      "source": [
        "print(f\"# de variables iniciales {univariate_II.shape[0]}\")\n",
        "print(f\"# de variables finales {len(feature_prefilter)}\")"
      ],
      "metadata": {
        "colab": {
          "base_uri": "https://localhost:8080/"
        },
        "id": "NDgYdrISzYKI",
        "outputId": "347f788c-8cc2-4eb0-a799-b87c89f2e6cf"
      },
      "execution_count": 98,
      "outputs": [
        {
          "output_type": "stream",
          "name": "stdout",
          "text": [
            "# de variables iniciales 13\n",
            "# de variables finales 8\n"
          ]
        }
      ]
    },
    {
      "cell_type": "markdown",
      "source": [
        "# Analizando el target"
      ],
      "metadata": {
        "id": "VV9GAjlTzJnG"
      }
    },
    {
      "cell_type": "code",
      "source": [
        "pddf.price.describe()"
      ],
      "metadata": {
        "colab": {
          "base_uri": "https://localhost:8080/"
        },
        "id": "zRu5RoQv9UGS",
        "outputId": "d6f44295-204b-4134-90d2-7d6843959076"
      },
      "execution_count": 102,
      "outputs": [
        {
          "output_type": "execute_result",
          "data": {
            "text/plain": [
              "count    4.550000e+03\n",
              "mean     5.580268e+05\n",
              "std      5.639329e+05\n",
              "min      8.000000e+04\n",
              "25%      3.264464e+05\n",
              "50%      4.650000e+05\n",
              "75%      6.575000e+05\n",
              "max      2.659000e+07\n",
              "Name: price, dtype: float64"
            ]
          },
          "metadata": {},
          "execution_count": 102
        }
      ]
    },
    {
      "cell_type": "code",
      "source": [
        "sns.displot(pddf.price, kind=\"kde\", fill=True)"
      ],
      "metadata": {
        "colab": {
          "base_uri": "https://localhost:8080/",
          "height": 517
        },
        "id": "GVFK5UDazLaR",
        "outputId": "4f0389e4-1b12-4b9d-889e-c6dc745f847c"
      },
      "execution_count": 101,
      "outputs": [
        {
          "output_type": "execute_result",
          "data": {
            "text/plain": [
              "<seaborn.axisgrid.FacetGrid at 0x7fbe647ca260>"
            ]
          },
          "metadata": {},
          "execution_count": 101
        },
        {
          "output_type": "display_data",
          "data": {
            "text/plain": [
              "<Figure size 500x500 with 1 Axes>"
            ],
            "image/png": "[encoded data removed]"
          },
          "metadata": {}
        }
      ]
    },
    {
      "cell_type": "code",
      "source": [
        "#Boxplot\n",
        "sns.set_theme(style=\"whitegrid\")\n",
        "ax = sns.boxplot(data=pddf.price, orient=\"h\")"
      ],
      "metadata": {
        "colab": {
          "base_uri": "https://localhost:8080/",
          "height": 453
        },
        "id": "uRUs0xn31tS5",
        "outputId": "4007593c-e82e-45ca-e143-9e9d44d03f8e"
      },
      "execution_count": 75,
      "outputs": [
        {
          "output_type": "display_data",
          "data": {
            "text/plain": [
              "<Figure size 640x480 with 1 Axes>"
            ],
            "image/png": "[encoded data removed]"
          },
          "metadata": {}
        }
      ]
    },
    {
      "cell_type": "markdown",
      "source": [
        "# Tratamiento de outliers del target por z-score (CAPPING)"
      ],
      "metadata": {
        "id": "2ipp8kfVDxkH"
      }
    },
    {
      "cell_type": "markdown",
      "source": [
        "![image.png](data:image/png;base64,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)"
      ],
      "metadata": {
        "id": "5oJZmAkDC5YM"
      }
    },
    {
      "cell_type": "code",
      "source": [
        "# Tratamiento por z-score (99% de confianza) -> Capping: truncar los valores extremos consiste en imputar los valores limites.\n",
        "# 99% confianza -> z=3.576\n",
        "# 95% confianza -> z=1.96\n",
        "# Asume que los datos siguen una distribucion normal\n",
        "upper_limit = np.mean(pddf.price) + 1.96*np.std(pddf.price)\n",
        "lower_limit = np.mean(pddf.price) - 1.96*np.std(pddf.price)\n",
        "\n",
        "pddf[\"price_t\"] = pddf.price.apply(lambda x: upper_limit if x > upper_limit\n",
        "                 else lower_limit if x < lower_limit else x)"
      ],
      "metadata": {
        "id": "ONqh8yySzLRT"
      },
      "execution_count": 105,
      "outputs": []
    },
    {
      "cell_type": "code",
      "source": [
        "#El valor del lower limit se va muy a la izquierda debido a la desviacion estandar, porque justamente el tratamient por z-score asume una dist. normal\n",
        "lower_limit"
      ],
      "metadata": {
        "colab": {
          "base_uri": "https://localhost:8080/"
        },
        "id": "e9-EAgEfD_JB",
        "outputId": "268914a5-de8b-4714-c550-746a8c097bf7"
      },
      "execution_count": 106,
      "outputs": [
        {
          "output_type": "execute_result",
          "data": {
            "text/plain": [
              "-547160.1348601585"
            ]
          },
          "metadata": {},
          "execution_count": 106
        }
      ]
    },
    {
      "cell_type": "code",
      "source": [
        "np.mean(pddf.price)"
      ],
      "metadata": {
        "colab": {
          "base_uri": "https://localhost:8080/"
        },
        "id": "a7pVhleYEEyk",
        "outputId": "4e4835cc-c765-4e85-e8fd-be0a63308fc4"
      },
      "execution_count": 107,
      "outputs": [
        {
          "output_type": "execute_result",
          "data": {
            "text/plain": [
              "558026.8015333592"
            ]
          },
          "metadata": {},
          "execution_count": 107
        }
      ]
    },
    {
      "cell_type": "code",
      "source": [
        "sns.displot(pddf.price_t, kind=\"kde\", fill=True)"
      ],
      "metadata": {
        "colab": {
          "base_uri": "https://localhost:8080/",
          "height": 517
        },
        "id": "eqfxltsgzLNK",
        "outputId": "839ecba7-29af-418d-c622-766756b25ed6"
      },
      "execution_count": 108,
      "outputs": [
        {
          "output_type": "execute_result",
          "data": {
            "text/plain": [
              "<seaborn.axisgrid.FacetGrid at 0x7fbe647ca4d0>"
            ]
          },
          "metadata": {},
          "execution_count": 108
        },
        {
          "output_type": "display_data",
          "data": {
            "text/plain": [
              "<Figure size 500x500 with 1 Axes>"
            ],
            "image/png": "[encoded data removed]"
          },
          "metadata": {}
        }
      ]
    },
    {
      "cell_type": "code",
      "source": [
        "sns.set_theme(style=\"whitegrid\")\n",
        "ax = sns.boxplot(data=pddf.price_t, orient=\"h\")"
      ],
      "metadata": {
        "colab": {
          "base_uri": "https://localhost:8080/",
          "height": 453
        },
        "id": "4K4pNtSVuo1u",
        "outputId": "b7d0135c-2aff-4560-fea2-cd7cd970e50b"
      },
      "execution_count": 78,
      "outputs": [
        {
          "output_type": "display_data",
          "data": {
            "text/plain": [
              "<Figure size 640x480 with 1 Axes>"
            ],
            "image/png": "[encoded data removed]"
          },
          "metadata": {}
        }
      ]
    },
    {
      "cell_type": "code",
      "source": [
        "pddf.price_t.hist(bins=40)"
      ],
      "metadata": {
        "colab": {
          "base_uri": "https://localhost:8080/",
          "height": 470
        },
        "id": "QzpikyAk2dcw",
        "outputId": "f47967ef-ac71-4b55-bfe7-865b3dc9e41f"
      },
      "execution_count": 109,
      "outputs": [
        {
          "output_type": "execute_result",
          "data": {
            "text/plain": [
              "<Axes: >"
            ]
          },
          "metadata": {},
          "execution_count": 109
        },
        {
          "output_type": "display_data",
          "data": {
            "text/plain": [
              "<Figure size 640x480 with 1 Axes>"
            ],
            "image/png": "[encoded data removed]"
          },
          "metadata": {}
        }
      ]
    },
    {
      "cell_type": "markdown",
      "source": [
        "# Tratamiento por z-score de los faetures\n"
      ],
      "metadata": {
        "id": "VFx2lPYdFZS2"
      }
    },
    {
      "cell_type": "code",
      "source": [
        "#Calculando los intervalos\n",
        "univariate_II[\"li_zscore\"] = univariate_II[\"mean\"] - 1.96*univariate_II[\"std\"]\n",
        "univariate_II[\"ls_zscore\"] = univariate_II[\"mean\"] + 1.96*univariate_II[\"std\"]\n",
        "\n",
        "univariate_II.head()"
      ],
      "metadata": {
        "colab": {
          "base_uri": "https://localhost:8080/",
          "height": 206
        },
        "id": "R3O2duOD2dWQ",
        "outputId": "0549084a-68db-46a9-8d2d-75357e8659b3"
      },
      "execution_count": 110,
      "outputs": [
        {
          "output_type": "execute_result",
          "data": {
            "text/plain": [
              "        feature   count           mean            std      min         Q1  \\\n",
              "12        price  3185.0  559046.654641  627775.352934  80000.0  329350.00   \n",
              "8   sqft_living  3185.0    2134.329356     951.982266    370.0    1470.00   \n",
              "6    sqft_above  3185.0    1819.907064     848.854618    370.0    1200.00   \n",
              "9     bathrooms  3185.0       2.163658       0.774415      0.0       1.75   \n",
              "7          view  3185.0       0.236735       0.766261      0.0       0.00   \n",
              "\n",
              "           Q2        Q3         max  missing_rate    correl  correl_abs  \\\n",
              "12  465000.00  650000.0  26590000.0           0.0  1.000000    1.000000   \n",
              "8     1980.00    2600.0     13540.0           0.0  0.396258    0.396258   \n",
              "6     1590.00    2290.0      9410.0           0.0  0.335910    0.335910   \n",
              "9        2.25       2.5         8.0           0.0  0.303729    0.303729   \n",
              "7        0.00       0.0         4.0           0.0  0.225895    0.225895   \n",
              "\n",
              "        li_zscore     ls_zscore  \n",
              "12 -671393.037110  1.789486e+06  \n",
              "8      268.444116  4.000215e+03  \n",
              "6      156.152013  3.483662e+03  \n",
              "9        0.645804  3.681512e+00  \n",
              "7       -1.265136  1.738605e+00  "
            ],
            "text/html": [
              "\n",
              "  <div id=\"df-baffe8cc-2ced-4a5a-ae63-6d425a95f39f\">\n",
              "    <div class=\"colab-df-container\">\n",
              "      <div>\n",
              "<style scoped>\n",
              "    .dataframe tbody tr th:only-of-type {\n",
              "        vertical-align: middle;\n",
              "    }\n",
              "\n",
              "    .dataframe tbody tr th {\n",
              "        vertical-align: top;\n",
              "    }\n",
              "\n",
              "    .dataframe thead th {\n",
              "        text-align: right;\n",
              "    }\n",
              "</style>\n",
              "<table border=\"1\" class=\"dataframe\">\n",
              "  <thead>\n",
              "    <tr style=\"text-align: right;\">\n",
              "      <th></th>\n",
              "      <th>feature</th>\n",
              "      <th>count</th>\n",
              "      <th>mean</th>\n",
              "      <th>std</th>\n",
              "      <th>min</th>\n",
              "      <th>Q1</th>\n",
              "      <th>Q2</th>\n",
              "      <th>Q3</th>\n",
              "      <th>max</th>\n",
              "      <th>missing_rate</th>\n",
              "      <th>correl</th>\n",
              "      <th>correl_abs</th>\n",
              "      <th>li_zscore</th>\n",
              "      <th>ls_zscore</th>\n",
              "    </tr>\n",
              "  </thead>\n",
              "  <tbody>\n",
              "    <tr>\n",
              "      <th>12</th>\n",
              "      <td>price</td>\n",
              "      <td>3185.0</td>\n",
              "      <td>559046.654641</td>\n",
              "      <td>627775.352934</td>\n",
              "      <td>80000.0</td>\n",
              "      <td>329350.00</td>\n",
              "      <td>465000.00</td>\n",
              "      <td>650000.0</td>\n",
              "      <td>26590000.0</td>\n",
              "      <td>0.0</td>\n",
              "      <td>1.000000</td>\n",
              "      <td>1.000000</td>\n",
              "      <td>-671393.037110</td>\n",
              "      <td>1.789486e+06</td>\n",
              "    </tr>\n",
              "    <tr>\n",
              "      <th>8</th>\n",
              "      <td>sqft_living</td>\n",
              "      <td>3185.0</td>\n",
              "      <td>2134.329356</td>\n",
              "      <td>951.982266</td>\n",
              "      <td>370.0</td>\n",
              "      <td>1470.00</td>\n",
              "      <td>1980.00</td>\n",
              "      <td>2600.0</td>\n",
              "      <td>13540.0</td>\n",
              "      <td>0.0</td>\n",
              "      <td>0.396258</td>\n",
              "      <td>0.396258</td>\n",
              "      <td>268.444116</td>\n",
              "      <td>4.000215e+03</td>\n",
              "    </tr>\n",
              "    <tr>\n",
              "      <th>6</th>\n",
              "      <td>sqft_above</td>\n",
              "      <td>3185.0</td>\n",
              "      <td>1819.907064</td>\n",
              "      <td>848.854618</td>\n",
              "      <td>370.0</td>\n",
              "      <td>1200.00</td>\n",
              "      <td>1590.00</td>\n",
              "      <td>2290.0</td>\n",
              "      <td>9410.0</td>\n",
              "      <td>0.0</td>\n",
              "      <td>0.335910</td>\n",
              "      <td>0.335910</td>\n",
              "      <td>156.152013</td>\n",
              "      <td>3.483662e+03</td>\n",
              "    </tr>\n",
              "    <tr>\n",
              "      <th>9</th>\n",
              "      <td>bathrooms</td>\n",
              "      <td>3185.0</td>\n",
              "      <td>2.163658</td>\n",
              "      <td>0.774415</td>\n",
              "      <td>0.0</td>\n",
              "      <td>1.75</td>\n",
              "      <td>2.25</td>\n",
              "      <td>2.5</td>\n",
              "      <td>8.0</td>\n",
              "      <td>0.0</td>\n",
              "      <td>0.303729</td>\n",
              "      <td>0.303729</td>\n",
              "      <td>0.645804</td>\n",
              "      <td>3.681512e+00</td>\n",
              "    </tr>\n",
              "    <tr>\n",
              "      <th>7</th>\n",
              "      <td>view</td>\n",
              "      <td>3185.0</td>\n",
              "      <td>0.236735</td>\n",
              "      <td>0.766261</td>\n",
              "      <td>0.0</td>\n",
              "      <td>0.00</td>\n",
              "      <td>0.00</td>\n",
              "      <td>0.0</td>\n",
              "      <td>4.0</td>\n",
              "      <td>0.0</td>\n",
              "      <td>0.225895</td>\n",
              "      <td>0.225895</td>\n",
              "      <td>-1.265136</td>\n",
              "      <td>1.738605e+00</td>\n",
              "    </tr>\n",
              "  </tbody>\n",
              "</table>\n",
              "</div>\n",
              "      <button class=\"colab-df-convert\" onclick=\"convertToInteractive('df-baffe8cc-2ced-4a5a-ae63-6d425a95f39f')\"\n",
              "              title=\"Convert this dataframe to an interactive table.\"\n",
              "              style=\"display:none;\">\n",
              "        \n",
              "  <svg xmlns=\"http://www.w3.org/2000/svg\" height=\"24px\"viewBox=\"0 0 24 24\"\n",
              "       width=\"24px\">\n",
              "    <path d=\"M0 0h24v24H0V0z\" fill=\"none\"/>\n",
              "    <path d=\"M18.56 5.44l.94 2.06.94-2.06 2.06-.94-2.06-.94-.94-2.06-.94 2.06-2.06.94zm-11 1L8.5 8.5l.94-2.06 2.06-.94-2.06-.94L8.5 2.5l-.94 2.06-2.06.94zm10 10l.94 2.06.94-2.06 2.06-.94-2.06-.94-.94-2.06-.94 2.06-2.06.94z\"/><path d=\"M17.41 7.96l-1.37-1.37c-.4-.4-.92-.59-1.43-.59-.52 0-1.04.2-1.43.59L10.3 9.45l-7.72 7.72c-.78.78-.78 2.05 0 2.83L4 21.41c.39.39.9.59 1.41.59.51 0 1.02-.2 1.41-.59l7.78-7.78 2.81-2.81c.8-.78.8-2.07 0-2.86zM5.41 20L4 18.59l7.72-7.72 1.47 1.35L5.41 20z\"/>\n",
              "  </svg>\n",
              "      </button>\n",
              "      \n",
              "  <style>\n",
              "    .colab-df-container {\n",
              "      display:flex;\n",
              "      flex-wrap:wrap;\n",
              "      gap: 12px;\n",
              "    }\n",
              "\n",
              "    .colab-df-convert {\n",
              "      background-color: #E8F0FE;\n",
              "      border: none;\n",
              "      border-radius: 50%;\n",
              "      cursor: pointer;\n",
              "      display: none;\n",
              "      fill: #1967D2;\n",
              "      height: 32px;\n",
              "      padding: 0 0 0 0;\n",
              "      width: 32px;\n",
              "    }\n",
              "\n",
              "    .colab-df-convert:hover {\n",
              "      background-color: #E2EBFA;\n",
              "      box-shadow: 0px 1px 2px rgba(60, 64, 67, 0.3), 0px 1px 3px 1px rgba(60, 64, 67, 0.15);\n",
              "      fill: #174EA6;\n",
              "    }\n",
              "\n",
              "    [theme=dark] .colab-df-convert {\n",
              "      background-color: #3B4455;\n",
              "      fill: #D2E3FC;\n",
              "    }\n",
              "\n",
              "    [theme=dark] .colab-df-convert:hover {\n",
              "      background-color: #434B5C;\n",
              "      box-shadow: 0px 1px 3px 1px rgba(0, 0, 0, 0.15);\n",
              "      filter: drop-shadow(0px 1px 2px rgba(0, 0, 0, 0.3));\n",
              "      fill: #FFFFFF;\n",
              "    }\n",
              "  </style>\n",
              "\n",
              "      <script>\n",
              "        const buttonEl =\n",
              "          document.querySelector('#df-baffe8cc-2ced-4a5a-ae63-6d425a95f39f button.colab-df-convert');\n",
              "        buttonEl.style.display =\n",
              "          google.colab.kernel.accessAllowed ? 'block' : 'none';\n",
              "\n",
              "        async function convertToInteractive(key) {\n",
              "          const element = document.querySelector('#df-baffe8cc-2ced-4a5a-ae63-6d425a95f39f');\n",
              "          const dataTable =\n",
              "            await google.colab.kernel.invokeFunction('convertToInteractive',\n",
              "                                                     [key], {});\n",
              "          if (!dataTable) return;\n",
              "\n",
              "          const docLinkHtml = 'Like what you see? Visit the ' +\n",
              "            '<a target=\"_blank\" href=https://colab.research.google.com/notebooks/data_table.ipynb>data table notebook</a>'\n",
              "            + ' to learn more about interactive tables.';\n",
              "          element.innerHTML = '';\n",
              "          dataTable['output_type'] = 'display_data';\n",
              "          await google.colab.output.renderOutput(dataTable, element);\n",
              "          const docLink = document.createElement('div');\n",
              "          docLink.innerHTML = docLinkHtml;\n",
              "          element.appendChild(docLink);\n",
              "        }\n",
              "      </script>\n",
              "    </div>\n",
              "  </div>\n",
              "  "
            ]
          },
          "metadata": {},
          "execution_count": 110
        }
      ]
    },
    {
      "cell_type": "code",
      "source": [
        "def calculate_zscore(dataframe,univariate,features_treatment):\n",
        "  for col in features_treatment:\n",
        "    desc = univariate.loc[univariate.feature==col]\n",
        "    dataframe[col + \"_tzscore\"] = dataframe[col].apply(lambda x: desc.ls_zscore.values[0] if x > desc.ls_zscore.values[0]\n",
        "                                                     else desc.li_zscore.values[0] if x < desc.li_zscore.values[0]\n",
        "                                                     else x)\n",
        "  return dataframe"
      ],
      "metadata": {
        "id": "gGLdTPKx-518"
      },
      "execution_count": 111,
      "outputs": []
    },
    {
      "cell_type": "code",
      "source": [
        "train_I = calculate_zscore(train,univariate_II,univariate_II.feature.tolist())\n",
        "test_I = calculate_zscore(test,univariate_II,univariate_II.feature.tolist())"
      ],
      "metadata": {
        "id": "BbU9SpUT7HpC"
      },
      "execution_count": 112,
      "outputs": []
    },
    {
      "cell_type": "code",
      "source": [
        "train_I"
      ],
      "metadata": {
        "id": "B-nuRXQ47HmI"
      },
      "execution_count": null,
      "outputs": []
    },
    {
      "cell_type": "code",
      "source": [],
      "metadata": {
        "id": "ap1Udspg5ygc"
      },
      "execution_count": null,
      "outputs": []
    },
    {
      "cell_type": "code",
      "source": [],
      "metadata": {
        "id": "6jkG8zil5yeL"
      },
      "execution_count": null,
      "outputs": []
    },
    {
      "cell_type": "code",
      "source": [],
      "metadata": {
        "id": "kXoR4d0ptvF3"
      },
      "execution_count": null,
      "outputs": []
    },
    {
      "cell_type": "code",
      "source": [],
      "metadata": {
        "id": "j-izSZnItvDp"
      },
      "execution_count": null,
      "outputs": []
    },
    {
      "cell_type": "code",
      "source": [],
      "metadata": {
        "id": "DGUhMkN_Ds0m"
      },
      "execution_count": null,
      "outputs": []
    },
    {
      "cell_type": "code",
      "source": [],
      "metadata": {
        "id": "Oka34qidDsyW"
      },
      "execution_count": null,
      "outputs": []
    }
  ]
}